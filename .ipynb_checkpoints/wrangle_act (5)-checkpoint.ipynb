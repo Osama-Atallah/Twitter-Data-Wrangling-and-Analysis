{
 "cells": [
  {
   "cell_type": "markdown",
   "metadata": {},
   "source": [
    "# Gathering Data"
   ]
  },
  {
   "cell_type": "markdown",
   "metadata": {},
   "source": [
    "### 1. I have uploaded the Enhanced WeRateDogs Archive file from my computer usig jupyter dashboard"
   ]
  },
  {
   "cell_type": "markdown",
   "metadata": {},
   "source": [
    "### 2. Now I'm retreiving 'image-predictions.tsv from Udacity server"
   ]
  },
  {
   "cell_type": "code",
   "execution_count": 101,
   "metadata": {},
   "outputs": [],
   "source": [
    "import requests\n",
    "import json\n",
    "import pandas as pd\n",
    "import numpy as np\n",
    "import matplotlib.pyplot as plt\n",
    "% matplotlib inline\n",
    "import PIL\n",
    "import seaborn as sns\n",
    "sns.set()"
   ]
  },
  {
   "cell_type": "code",
   "execution_count": 3,
   "metadata": {},
   "outputs": [],
   "source": [
    "r = requests.get('https://d17h27t6h515a5.cloudfront.net/topher/2017/August/599fd2ad_image-predictions/image-predictions.tsv')"
   ]
  },
  {
   "cell_type": "code",
   "execution_count": 4,
   "metadata": {},
   "outputs": [],
   "source": [
    "with open('image-predictions.tsv', 'w') as f:\n",
    "    f.write(r.text)"
   ]
  },
  {
   "cell_type": "code",
   "execution_count": 5,
   "metadata": {
    "scrolled": true
   },
   "outputs": [],
   "source": [
    "tw_archive_df = pd.read_csv('twitter-archive-enhanced.csv')"
   ]
  },
  {
   "cell_type": "code",
   "execution_count": 6,
   "metadata": {},
   "outputs": [],
   "source": [
    "image_predictions_df = pd.read_csv('image-predictions.tsv', delimiter='\\t')"
   ]
  },
  {
   "cell_type": "markdown",
   "metadata": {},
   "source": [
    "### 3. Reteiving tweets using Twitter API, Tweets is stored in tweet-json.txt file"
   ]
  },
  {
   "cell_type": "code",
   "execution_count": 7,
   "metadata": {},
   "outputs": [],
   "source": [
    "import tweepy\n",
    "\n",
    "CONSUMER_KEY = \"u6PW6MUP0QwIawrHOAOXpt4rW\"\n",
    "CONSUMER_SECRET = \"UqNUN9av31F56HBg4zAQQ1bY4GjjvDySrPHwwMZJcAmbIy8Q8D\"\n",
    "OAUTH_TOKEN = \"292463172-TJb023mBZcIOfSJtmkuqA41Njfcnr2Vj2gMG4Cfd\"\n",
    "OAUTH_TOKEN_SECRET = \"SH7gPDSqTHkjjabHdAymNTUx4EP7IwXA2pjsrSpybweFC\"\n",
    "\n",
    "auth = tweepy.OAuthHandler(CONSUMER_KEY, CONSUMER_SECRET)\n",
    "auth.set_access_token(OAUTH_TOKEN, OAUTH_TOKEN_SECRET)\n",
    "api = tweepy.API(auth, wait_on_rate_limit=True, wait_on_rate_limit_notify=True)"
   ]
  },
  {
   "cell_type": "code",
   "execution_count": 8,
   "metadata": {},
   "outputs": [],
   "source": [
    "tweets = api.user_timeline(screen_id ='WeRateDogs', max_id ='892420643555336193')"
   ]
  },
  {
   "cell_type": "code",
   "execution_count": 9,
   "metadata": {},
   "outputs": [
    {
     "data": {
      "text/plain": [
       "4"
      ]
     },
     "execution_count": 9,
     "metadata": {},
     "output_type": "execute_result"
    }
   ],
   "source": [
    "len(tweets)"
   ]
  },
  {
   "cell_type": "code",
   "execution_count": 10,
   "metadata": {},
   "outputs": [
    {
     "name": "stderr",
     "output_type": "stream",
     "text": [
      "/opt/conda/lib/python3.6/site-packages/ipykernel_launcher.py:9: DeprecationWarning: generator 'limit_handled' raised StopIteration\n",
      "  if __name__ == '__main__':\n"
     ]
    }
   ],
   "source": [
    "tweets_list = []\n",
    "def limit_handled(cursor):\n",
    "    while True:\n",
    "        try:\n",
    "            yield cursor.next()\n",
    "        except tweepy.RateLimitError:\n",
    "            time.sleep(15 * 60)\n",
    "\n",
    "for tweet in limit_handled(tweepy.Cursor(api.user_timeline, screen_id ='WeRateDogs', max_id ='892420643555336193').items()):\n",
    "    tweets_list.append(tweet)"
   ]
  },
  {
   "cell_type": "code",
   "execution_count": 11,
   "metadata": {},
   "outputs": [
    {
     "data": {
      "text/plain": [
       "4"
      ]
     },
     "execution_count": 11,
     "metadata": {},
     "output_type": "execute_result"
    }
   ],
   "source": [
    "len(tweets_list)"
   ]
  },
  {
   "cell_type": "markdown",
   "metadata": {},
   "source": [
    "### I tried but I couldn't retreive all tweets.<br>"
   ]
  },
  {
   "cell_type": "code",
   "execution_count": 12,
   "metadata": {
    "scrolled": true
   },
   "outputs": [
    {
     "name": "stdout",
     "output_type": "stream",
     "text": [
      "2356\n",
      "1: 892420643555335936\n",
      "Fail\n",
      "2: 892177421306343040\n",
      "Fail\n",
      "3: 891815181378084992\n",
      "Fail\n",
      "4: 891689557279858944\n",
      "Fail\n",
      "5: 891327558926688000\n",
      "Fail\n",
      "6: 891087950875897984\n",
      "Fail\n",
      "7: 890971913173991040\n",
      "Fail\n",
      "8: 890729181411238016\n",
      "Fail\n",
      "9: 890609185150311936\n",
      "Fail\n",
      "10: 890240255349198976\n",
      "Fail\n",
      "11: 890006608113171968\n",
      "Fail\n",
      "12: 889880896479867008\n",
      "Fail\n",
      "13: 889665388333682944\n",
      "Fail\n",
      "14: 889638837579906944\n",
      "Fail\n",
      "15: 889531135344210048\n",
      "Fail\n",
      "16: 889278841981686016\n",
      "Fail\n",
      "17: 888917238123831040\n",
      "Fail\n",
      "18: 888804989199671040\n",
      "Fail\n",
      "19: 888554962724278016\n",
      "Fail\n",
      "20: 888202515573088000\n",
      "Fail\n",
      "21: 888078434458587008\n",
      "Fail\n",
      "22: 887705289381826944\n",
      "Fail\n",
      "23: 887517139158093952\n",
      "Fail\n",
      "24: 887473957103952000\n",
      "Fail\n",
      "25: 887343217045368960\n",
      "Fail\n",
      "26: 887101392804086016\n",
      "Fail\n",
      "27: 886983233522545024\n",
      "Fail\n",
      "28: 886736880519320064\n",
      "Fail\n",
      "29: 886680336477933952\n",
      "Fail\n",
      "30: 886366144734445952\n",
      "Fail\n",
      "31: 886267009285017984\n",
      "Fail\n",
      "32: 886258384151888000\n",
      "Fail\n",
      "33: 886054160059073024\n",
      "Fail\n",
      "34: 885984800019948032\n",
      "Fail\n",
      "35: 885528943205469952\n",
      "Fail\n",
      "36: 885518971528720000\n",
      "Fail\n",
      "37: 885311592912609024\n",
      "Fail\n",
      "38: 885167619883639040\n",
      "Fail\n",
      "39: 884925521741709056\n",
      "Fail\n",
      "40: 884876753390489984\n",
      "Fail\n",
      "41: 884562892145688064\n",
      "Fail\n",
      "42: 884441805382717952\n",
      "Fail\n",
      "43: 884247878851494016\n",
      "Fail\n",
      "44: 884162670584376960\n",
      "Fail\n",
      "45: 883838122936631040\n",
      "Fail\n",
      "46: 883482846933004032\n",
      "Fail\n",
      "47: 883360690899218048\n",
      "Fail\n",
      "48: 883117836046086016\n",
      "Fail\n",
      "49: 882992080364221056\n",
      "Fail\n",
      "50: 882762694511735040\n",
      "Fail\n",
      "51: 882627270321602944\n",
      "Fail\n",
      "52: 882268110199369984\n",
      "Fail\n",
      "53: 882045870035918976\n",
      "Fail\n",
      "54: 881906580714921984\n",
      "Fail\n",
      "55: 881666595344536064\n",
      "Fail\n",
      "56: 881633300179243008\n",
      "Success\n",
      "57: 881536004380872960\n",
      "Fail\n",
      "58: 881268444196462976\n",
      "Fail\n",
      "59: 880935762899988992\n",
      "Fail\n",
      "60: 880872448815772032\n",
      "Fail\n",
      "61: 880465832366813056\n",
      "Fail\n",
      "62: 880221127280381952\n",
      "Success\n",
      "63: 880095782870897024\n",
      "Fail\n",
      "64: 879862464715928064\n",
      "Fail\n",
      "65: 879674319642796032\n",
      "Fail\n",
      "66: 879492040517616000\n",
      "Fail\n",
      "67: 879415818425184000\n",
      "Fail\n",
      "68: 879376492567854976\n",
      "Fail\n",
      "69: 879130579576476032\n",
      "Fail\n",
      "70: 879050749262654976\n",
      "Fail\n",
      "71: 879008229531030016\n",
      "Fail\n",
      "72: 878776093423088000\n",
      "Fail\n",
      "73: 878604707211726976\n",
      "Fail\n",
      "74: 878404777348136960\n",
      "Fail\n",
      "75: 878316110768087040\n",
      "Fail\n",
      "76: 878281511006477952\n",
      "Fail\n",
      "77: 878057613040115968\n",
      "Fail\n",
      "78: 877736472329191040\n",
      "Fail\n",
      "79: 877611172832226944\n",
      "Fail\n",
      "80: 877556246731214976\n",
      "Fail\n",
      "81: 877316821321428992\n",
      "Success\n",
      "82: 877201837425926016\n",
      "Fail\n",
      "83: 876838120628540032\n",
      "Fail\n",
      "84: 876537666061222016\n",
      "Fail\n",
      "85: 876484053909873024\n",
      "Fail\n",
      "86: 876120275196169984\n",
      "Fail\n",
      "87: 875747767867522944\n",
      "Fail\n",
      "88: 875144289856114944\n",
      "Fail\n",
      "89: 875097192612077056\n",
      "Fail\n",
      "90: 875021211251597056\n",
      "Fail\n",
      "91: 874680097055179008\n",
      "Fail\n",
      "92: 874434818259526016\n",
      "Fail\n",
      "93: 874296783580664064\n",
      "Fail\n",
      "94: 874057562936812032\n",
      "Fail\n",
      "95: 874012996292530048\n",
      "Fail\n",
      "96: 873697596434514048\n",
      "Fail\n",
      "97: 873580283840344064\n",
      "Fail\n",
      "98: 873337748698141056\n",
      "Fail\n",
      "99: 873213775632978048\n",
      "Fail\n",
      "100: 872967104147762944\n",
      "Fail\n",
      "101: 872820683541238016\n"
     ]
    },
    {
     "ename": "KeyboardInterrupt",
     "evalue": "",
     "output_type": "error",
     "traceback": [
      "\u001b[0;31m---------------------------------------------------------------------------\u001b[0m",
      "\u001b[0;31mWantReadError\u001b[0m                             Traceback (most recent call last)",
      "\u001b[0;32m/opt/conda/lib/python3.6/site-packages/urllib3/contrib/pyopenssl.py\u001b[0m in \u001b[0;36mwrap_socket\u001b[0;34m(self, sock, server_side, do_handshake_on_connect, suppress_ragged_eofs, server_hostname)\u001b[0m\n\u001b[1;32m    440\u001b[0m             \u001b[0;32mtry\u001b[0m\u001b[0;34m:\u001b[0m\u001b[0;34m\u001b[0m\u001b[0m\n\u001b[0;32m--> 441\u001b[0;31m                 \u001b[0mcnx\u001b[0m\u001b[0;34m.\u001b[0m\u001b[0mdo_handshake\u001b[0m\u001b[0;34m(\u001b[0m\u001b[0;34m)\u001b[0m\u001b[0;34m\u001b[0m\u001b[0m\n\u001b[0m\u001b[1;32m    442\u001b[0m             \u001b[0;32mexcept\u001b[0m \u001b[0mOpenSSL\u001b[0m\u001b[0;34m.\u001b[0m\u001b[0mSSL\u001b[0m\u001b[0;34m.\u001b[0m\u001b[0mWantReadError\u001b[0m\u001b[0;34m:\u001b[0m\u001b[0;34m\u001b[0m\u001b[0m\n",
      "\u001b[0;32m/opt/conda/lib/python3.6/site-packages/OpenSSL/SSL.py\u001b[0m in \u001b[0;36mdo_handshake\u001b[0;34m(self)\u001b[0m\n\u001b[1;32m   1715\u001b[0m         \u001b[0mresult\u001b[0m \u001b[0;34m=\u001b[0m \u001b[0m_lib\u001b[0m\u001b[0;34m.\u001b[0m\u001b[0mSSL_do_handshake\u001b[0m\u001b[0;34m(\u001b[0m\u001b[0mself\u001b[0m\u001b[0;34m.\u001b[0m\u001b[0m_ssl\u001b[0m\u001b[0;34m)\u001b[0m\u001b[0;34m\u001b[0m\u001b[0m\n\u001b[0;32m-> 1716\u001b[0;31m         \u001b[0mself\u001b[0m\u001b[0;34m.\u001b[0m\u001b[0m_raise_ssl_error\u001b[0m\u001b[0;34m(\u001b[0m\u001b[0mself\u001b[0m\u001b[0;34m.\u001b[0m\u001b[0m_ssl\u001b[0m\u001b[0;34m,\u001b[0m \u001b[0mresult\u001b[0m\u001b[0;34m)\u001b[0m\u001b[0;34m\u001b[0m\u001b[0m\n\u001b[0m\u001b[1;32m   1717\u001b[0m \u001b[0;34m\u001b[0m\u001b[0m\n",
      "\u001b[0;32m/opt/conda/lib/python3.6/site-packages/OpenSSL/SSL.py\u001b[0m in \u001b[0;36m_raise_ssl_error\u001b[0;34m(self, ssl, result)\u001b[0m\n\u001b[1;32m   1430\u001b[0m         \u001b[0;32mif\u001b[0m \u001b[0merror\u001b[0m \u001b[0;34m==\u001b[0m \u001b[0m_lib\u001b[0m\u001b[0;34m.\u001b[0m\u001b[0mSSL_ERROR_WANT_READ\u001b[0m\u001b[0;34m:\u001b[0m\u001b[0;34m\u001b[0m\u001b[0m\n\u001b[0;32m-> 1431\u001b[0;31m             \u001b[0;32mraise\u001b[0m \u001b[0mWantReadError\u001b[0m\u001b[0;34m(\u001b[0m\u001b[0;34m)\u001b[0m\u001b[0;34m\u001b[0m\u001b[0m\n\u001b[0m\u001b[1;32m   1432\u001b[0m         \u001b[0;32melif\u001b[0m \u001b[0merror\u001b[0m \u001b[0;34m==\u001b[0m \u001b[0m_lib\u001b[0m\u001b[0;34m.\u001b[0m\u001b[0mSSL_ERROR_WANT_WRITE\u001b[0m\u001b[0;34m:\u001b[0m\u001b[0;34m\u001b[0m\u001b[0m\n",
      "\u001b[0;31mWantReadError\u001b[0m: ",
      "\nDuring handling of the above exception, another exception occurred:\n",
      "\u001b[0;31mKeyboardInterrupt\u001b[0m                         Traceback (most recent call last)",
      "\u001b[0;32m<ipython-input-12-a6393659446b>\u001b[0m in \u001b[0;36m<module>\u001b[0;34m()\u001b[0m\n\u001b[1;32m     36\u001b[0m         \u001b[0mprint\u001b[0m\u001b[0;34m(\u001b[0m\u001b[0mstr\u001b[0m\u001b[0;34m(\u001b[0m\u001b[0mcount\u001b[0m\u001b[0;34m)\u001b[0m \u001b[0;34m+\u001b[0m \u001b[0;34m\": \"\u001b[0m \u001b[0;34m+\u001b[0m \u001b[0mstr\u001b[0m\u001b[0;34m(\u001b[0m\u001b[0mtweet_id\u001b[0m\u001b[0;34m)\u001b[0m\u001b[0;34m)\u001b[0m\u001b[0;34m\u001b[0m\u001b[0m\n\u001b[1;32m     37\u001b[0m         \u001b[0;32mtry\u001b[0m\u001b[0;34m:\u001b[0m\u001b[0;34m\u001b[0m\u001b[0m\n\u001b[0;32m---> 38\u001b[0;31m             \u001b[0mtweet\u001b[0m \u001b[0;34m=\u001b[0m \u001b[0mapi\u001b[0m\u001b[0;34m.\u001b[0m\u001b[0mget_status\u001b[0m\u001b[0;34m(\u001b[0m\u001b[0mtweet_id\u001b[0m\u001b[0;34m,\u001b[0m \u001b[0mtweet_mode\u001b[0m\u001b[0;34m=\u001b[0m\u001b[0;34m'extended'\u001b[0m\u001b[0;34m)\u001b[0m\u001b[0;34m\u001b[0m\u001b[0m\n\u001b[0m\u001b[1;32m     39\u001b[0m             \u001b[0mprint\u001b[0m\u001b[0;34m(\u001b[0m\u001b[0;34m\"Success\"\u001b[0m\u001b[0;34m)\u001b[0m\u001b[0;34m\u001b[0m\u001b[0m\n\u001b[1;32m     40\u001b[0m             \u001b[0mjson\u001b[0m\u001b[0;34m.\u001b[0m\u001b[0mdump\u001b[0m\u001b[0;34m(\u001b[0m\u001b[0mtweet\u001b[0m\u001b[0;34m.\u001b[0m\u001b[0m_json\u001b[0m\u001b[0;34m,\u001b[0m \u001b[0moutfile\u001b[0m\u001b[0;34m)\u001b[0m\u001b[0;34m\u001b[0m\u001b[0m\n",
      "\u001b[0;32m/opt/conda/lib/python3.6/site-packages/tweepy/binder.py\u001b[0m in \u001b[0;36m_call\u001b[0;34m(*args, **kwargs)\u001b[0m\n\u001b[1;32m    243\u001b[0m             \u001b[0;32mreturn\u001b[0m \u001b[0mmethod\u001b[0m\u001b[0;34m\u001b[0m\u001b[0m\n\u001b[1;32m    244\u001b[0m         \u001b[0;32melse\u001b[0m\u001b[0;34m:\u001b[0m\u001b[0;34m\u001b[0m\u001b[0m\n\u001b[0;32m--> 245\u001b[0;31m             \u001b[0;32mreturn\u001b[0m \u001b[0mmethod\u001b[0m\u001b[0;34m.\u001b[0m\u001b[0mexecute\u001b[0m\u001b[0;34m(\u001b[0m\u001b[0;34m)\u001b[0m\u001b[0;34m\u001b[0m\u001b[0m\n\u001b[0m\u001b[1;32m    246\u001b[0m \u001b[0;34m\u001b[0m\u001b[0m\n\u001b[1;32m    247\u001b[0m     \u001b[0;31m# Set pagination mode\u001b[0m\u001b[0;34m\u001b[0m\u001b[0;34m\u001b[0m\u001b[0m\n",
      "\u001b[0;32m/opt/conda/lib/python3.6/site-packages/tweepy/binder.py\u001b[0m in \u001b[0;36mexecute\u001b[0;34m(self)\u001b[0m\n\u001b[1;32m    185\u001b[0m                                                 \u001b[0mtimeout\u001b[0m\u001b[0;34m=\u001b[0m\u001b[0mself\u001b[0m\u001b[0;34m.\u001b[0m\u001b[0mapi\u001b[0m\u001b[0;34m.\u001b[0m\u001b[0mtimeout\u001b[0m\u001b[0;34m,\u001b[0m\u001b[0;34m\u001b[0m\u001b[0m\n\u001b[1;32m    186\u001b[0m                                                 \u001b[0mauth\u001b[0m\u001b[0;34m=\u001b[0m\u001b[0mauth\u001b[0m\u001b[0;34m,\u001b[0m\u001b[0;34m\u001b[0m\u001b[0m\n\u001b[0;32m--> 187\u001b[0;31m                                                 proxies=self.api.proxy)\n\u001b[0m\u001b[1;32m    188\u001b[0m                 \u001b[0;32mexcept\u001b[0m \u001b[0mException\u001b[0m \u001b[0;32mas\u001b[0m \u001b[0me\u001b[0m\u001b[0;34m:\u001b[0m\u001b[0;34m\u001b[0m\u001b[0m\n\u001b[1;32m    189\u001b[0m                     \u001b[0;32mraise\u001b[0m \u001b[0mTweepError\u001b[0m\u001b[0;34m(\u001b[0m\u001b[0;34m'Failed to send request: %s'\u001b[0m \u001b[0;34m%\u001b[0m \u001b[0me\u001b[0m\u001b[0;34m)\u001b[0m\u001b[0;34m\u001b[0m\u001b[0m\n",
      "\u001b[0;32m/opt/conda/lib/python3.6/site-packages/requests/sessions.py\u001b[0m in \u001b[0;36mrequest\u001b[0;34m(self, method, url, params, data, headers, cookies, files, auth, timeout, allow_redirects, proxies, hooks, stream, verify, cert, json)\u001b[0m\n\u001b[1;32m    506\u001b[0m         }\n\u001b[1;32m    507\u001b[0m         \u001b[0msend_kwargs\u001b[0m\u001b[0;34m.\u001b[0m\u001b[0mupdate\u001b[0m\u001b[0;34m(\u001b[0m\u001b[0msettings\u001b[0m\u001b[0;34m)\u001b[0m\u001b[0;34m\u001b[0m\u001b[0m\n\u001b[0;32m--> 508\u001b[0;31m         \u001b[0mresp\u001b[0m \u001b[0;34m=\u001b[0m \u001b[0mself\u001b[0m\u001b[0;34m.\u001b[0m\u001b[0msend\u001b[0m\u001b[0;34m(\u001b[0m\u001b[0mprep\u001b[0m\u001b[0;34m,\u001b[0m \u001b[0;34m**\u001b[0m\u001b[0msend_kwargs\u001b[0m\u001b[0;34m)\u001b[0m\u001b[0;34m\u001b[0m\u001b[0m\n\u001b[0m\u001b[1;32m    509\u001b[0m \u001b[0;34m\u001b[0m\u001b[0m\n\u001b[1;32m    510\u001b[0m         \u001b[0;32mreturn\u001b[0m \u001b[0mresp\u001b[0m\u001b[0;34m\u001b[0m\u001b[0m\n",
      "\u001b[0;32m/opt/conda/lib/python3.6/site-packages/requests/sessions.py\u001b[0m in \u001b[0;36msend\u001b[0;34m(self, request, **kwargs)\u001b[0m\n\u001b[1;32m    616\u001b[0m \u001b[0;34m\u001b[0m\u001b[0m\n\u001b[1;32m    617\u001b[0m         \u001b[0;31m# Send the request\u001b[0m\u001b[0;34m\u001b[0m\u001b[0;34m\u001b[0m\u001b[0m\n\u001b[0;32m--> 618\u001b[0;31m         \u001b[0mr\u001b[0m \u001b[0;34m=\u001b[0m \u001b[0madapter\u001b[0m\u001b[0;34m.\u001b[0m\u001b[0msend\u001b[0m\u001b[0;34m(\u001b[0m\u001b[0mrequest\u001b[0m\u001b[0;34m,\u001b[0m \u001b[0;34m**\u001b[0m\u001b[0mkwargs\u001b[0m\u001b[0;34m)\u001b[0m\u001b[0;34m\u001b[0m\u001b[0m\n\u001b[0m\u001b[1;32m    619\u001b[0m \u001b[0;34m\u001b[0m\u001b[0m\n\u001b[1;32m    620\u001b[0m         \u001b[0;31m# Total elapsed time of the request (approximately)\u001b[0m\u001b[0;34m\u001b[0m\u001b[0;34m\u001b[0m\u001b[0m\n",
      "\u001b[0;32m/opt/conda/lib/python3.6/site-packages/requests/adapters.py\u001b[0m in \u001b[0;36msend\u001b[0;34m(self, request, stream, timeout, verify, cert, proxies)\u001b[0m\n\u001b[1;32m    438\u001b[0m                     \u001b[0mdecode_content\u001b[0m\u001b[0;34m=\u001b[0m\u001b[0;32mFalse\u001b[0m\u001b[0;34m,\u001b[0m\u001b[0;34m\u001b[0m\u001b[0m\n\u001b[1;32m    439\u001b[0m                     \u001b[0mretries\u001b[0m\u001b[0;34m=\u001b[0m\u001b[0mself\u001b[0m\u001b[0;34m.\u001b[0m\u001b[0mmax_retries\u001b[0m\u001b[0;34m,\u001b[0m\u001b[0;34m\u001b[0m\u001b[0m\n\u001b[0;32m--> 440\u001b[0;31m                     \u001b[0mtimeout\u001b[0m\u001b[0;34m=\u001b[0m\u001b[0mtimeout\u001b[0m\u001b[0;34m\u001b[0m\u001b[0m\n\u001b[0m\u001b[1;32m    441\u001b[0m                 )\n\u001b[1;32m    442\u001b[0m \u001b[0;34m\u001b[0m\u001b[0m\n",
      "\u001b[0;32m/opt/conda/lib/python3.6/site-packages/urllib3/connectionpool.py\u001b[0m in \u001b[0;36murlopen\u001b[0;34m(self, method, url, body, headers, retries, redirect, assert_same_host, timeout, pool_timeout, release_conn, chunked, body_pos, **response_kw)\u001b[0m\n\u001b[1;32m    599\u001b[0m                                                   \u001b[0mtimeout\u001b[0m\u001b[0;34m=\u001b[0m\u001b[0mtimeout_obj\u001b[0m\u001b[0;34m,\u001b[0m\u001b[0;34m\u001b[0m\u001b[0m\n\u001b[1;32m    600\u001b[0m                                                   \u001b[0mbody\u001b[0m\u001b[0;34m=\u001b[0m\u001b[0mbody\u001b[0m\u001b[0;34m,\u001b[0m \u001b[0mheaders\u001b[0m\u001b[0;34m=\u001b[0m\u001b[0mheaders\u001b[0m\u001b[0;34m,\u001b[0m\u001b[0;34m\u001b[0m\u001b[0m\n\u001b[0;32m--> 601\u001b[0;31m                                                   chunked=chunked)\n\u001b[0m\u001b[1;32m    602\u001b[0m \u001b[0;34m\u001b[0m\u001b[0m\n\u001b[1;32m    603\u001b[0m             \u001b[0;31m# If we're going to release the connection in ``finally:``, then\u001b[0m\u001b[0;34m\u001b[0m\u001b[0;34m\u001b[0m\u001b[0m\n",
      "\u001b[0;32m/opt/conda/lib/python3.6/site-packages/urllib3/connectionpool.py\u001b[0m in \u001b[0;36m_make_request\u001b[0;34m(self, conn, method, url, timeout, chunked, **httplib_request_kw)\u001b[0m\n\u001b[1;32m    344\u001b[0m         \u001b[0;31m# Trigger any extra validation we need to do.\u001b[0m\u001b[0;34m\u001b[0m\u001b[0;34m\u001b[0m\u001b[0m\n\u001b[1;32m    345\u001b[0m         \u001b[0;32mtry\u001b[0m\u001b[0;34m:\u001b[0m\u001b[0;34m\u001b[0m\u001b[0m\n\u001b[0;32m--> 346\u001b[0;31m             \u001b[0mself\u001b[0m\u001b[0;34m.\u001b[0m\u001b[0m_validate_conn\u001b[0m\u001b[0;34m(\u001b[0m\u001b[0mconn\u001b[0m\u001b[0;34m)\u001b[0m\u001b[0;34m\u001b[0m\u001b[0m\n\u001b[0m\u001b[1;32m    347\u001b[0m         \u001b[0;32mexcept\u001b[0m \u001b[0;34m(\u001b[0m\u001b[0mSocketTimeout\u001b[0m\u001b[0;34m,\u001b[0m \u001b[0mBaseSSLError\u001b[0m\u001b[0;34m)\u001b[0m \u001b[0;32mas\u001b[0m \u001b[0me\u001b[0m\u001b[0;34m:\u001b[0m\u001b[0;34m\u001b[0m\u001b[0m\n\u001b[1;32m    348\u001b[0m             \u001b[0;31m# Py2 raises this as a BaseSSLError, Py3 raises it as socket timeout.\u001b[0m\u001b[0;34m\u001b[0m\u001b[0;34m\u001b[0m\u001b[0m\n",
      "\u001b[0;32m/opt/conda/lib/python3.6/site-packages/urllib3/connectionpool.py\u001b[0m in \u001b[0;36m_validate_conn\u001b[0;34m(self, conn)\u001b[0m\n\u001b[1;32m    848\u001b[0m         \u001b[0;31m# Force connect early to allow us to validate the connection.\u001b[0m\u001b[0;34m\u001b[0m\u001b[0;34m\u001b[0m\u001b[0m\n\u001b[1;32m    849\u001b[0m         \u001b[0;32mif\u001b[0m \u001b[0;32mnot\u001b[0m \u001b[0mgetattr\u001b[0m\u001b[0;34m(\u001b[0m\u001b[0mconn\u001b[0m\u001b[0;34m,\u001b[0m \u001b[0;34m'sock'\u001b[0m\u001b[0;34m,\u001b[0m \u001b[0;32mNone\u001b[0m\u001b[0;34m)\u001b[0m\u001b[0;34m:\u001b[0m  \u001b[0;31m# AppEngine might not have  `.sock`\u001b[0m\u001b[0;34m\u001b[0m\u001b[0m\n\u001b[0;32m--> 850\u001b[0;31m             \u001b[0mconn\u001b[0m\u001b[0;34m.\u001b[0m\u001b[0mconnect\u001b[0m\u001b[0;34m(\u001b[0m\u001b[0;34m)\u001b[0m\u001b[0;34m\u001b[0m\u001b[0m\n\u001b[0m\u001b[1;32m    851\u001b[0m \u001b[0;34m\u001b[0m\u001b[0m\n\u001b[1;32m    852\u001b[0m         \u001b[0;32mif\u001b[0m \u001b[0;32mnot\u001b[0m \u001b[0mconn\u001b[0m\u001b[0;34m.\u001b[0m\u001b[0mis_verified\u001b[0m\u001b[0;34m:\u001b[0m\u001b[0;34m\u001b[0m\u001b[0m\n",
      "\u001b[0;32m/opt/conda/lib/python3.6/site-packages/urllib3/connection.py\u001b[0m in \u001b[0;36mconnect\u001b[0;34m(self)\u001b[0m\n\u001b[1;32m    324\u001b[0m             \u001b[0mca_cert_dir\u001b[0m\u001b[0;34m=\u001b[0m\u001b[0mself\u001b[0m\u001b[0;34m.\u001b[0m\u001b[0mca_cert_dir\u001b[0m\u001b[0;34m,\u001b[0m\u001b[0;34m\u001b[0m\u001b[0m\n\u001b[1;32m    325\u001b[0m             \u001b[0mserver_hostname\u001b[0m\u001b[0;34m=\u001b[0m\u001b[0mhostname\u001b[0m\u001b[0;34m,\u001b[0m\u001b[0;34m\u001b[0m\u001b[0m\n\u001b[0;32m--> 326\u001b[0;31m             ssl_context=context)\n\u001b[0m\u001b[1;32m    327\u001b[0m \u001b[0;34m\u001b[0m\u001b[0m\n\u001b[1;32m    328\u001b[0m         \u001b[0;32mif\u001b[0m \u001b[0mself\u001b[0m\u001b[0;34m.\u001b[0m\u001b[0massert_fingerprint\u001b[0m\u001b[0;34m:\u001b[0m\u001b[0;34m\u001b[0m\u001b[0m\n",
      "\u001b[0;32m/opt/conda/lib/python3.6/site-packages/urllib3/util/ssl_.py\u001b[0m in \u001b[0;36mssl_wrap_socket\u001b[0;34m(sock, keyfile, certfile, cert_reqs, ca_certs, server_hostname, ssl_version, ciphers, ssl_context, ca_cert_dir)\u001b[0m\n\u001b[1;32m    327\u001b[0m         \u001b[0mcontext\u001b[0m\u001b[0;34m.\u001b[0m\u001b[0mload_cert_chain\u001b[0m\u001b[0;34m(\u001b[0m\u001b[0mcertfile\u001b[0m\u001b[0;34m,\u001b[0m \u001b[0mkeyfile\u001b[0m\u001b[0;34m)\u001b[0m\u001b[0;34m\u001b[0m\u001b[0m\n\u001b[1;32m    328\u001b[0m     \u001b[0;32mif\u001b[0m \u001b[0mHAS_SNI\u001b[0m\u001b[0;34m:\u001b[0m  \u001b[0;31m# Platform-specific: OpenSSL with enabled SNI\u001b[0m\u001b[0;34m\u001b[0m\u001b[0m\n\u001b[0;32m--> 329\u001b[0;31m         \u001b[0;32mreturn\u001b[0m \u001b[0mcontext\u001b[0m\u001b[0;34m.\u001b[0m\u001b[0mwrap_socket\u001b[0m\u001b[0;34m(\u001b[0m\u001b[0msock\u001b[0m\u001b[0;34m,\u001b[0m \u001b[0mserver_hostname\u001b[0m\u001b[0;34m=\u001b[0m\u001b[0mserver_hostname\u001b[0m\u001b[0;34m)\u001b[0m\u001b[0;34m\u001b[0m\u001b[0m\n\u001b[0m\u001b[1;32m    330\u001b[0m \u001b[0;34m\u001b[0m\u001b[0m\n\u001b[1;32m    331\u001b[0m     warnings.warn(\n",
      "\u001b[0;32m/opt/conda/lib/python3.6/site-packages/urllib3/contrib/pyopenssl.py\u001b[0m in \u001b[0;36mwrap_socket\u001b[0;34m(self, sock, server_side, do_handshake_on_connect, suppress_ragged_eofs, server_hostname)\u001b[0m\n\u001b[1;32m    441\u001b[0m                 \u001b[0mcnx\u001b[0m\u001b[0;34m.\u001b[0m\u001b[0mdo_handshake\u001b[0m\u001b[0;34m(\u001b[0m\u001b[0;34m)\u001b[0m\u001b[0;34m\u001b[0m\u001b[0m\n\u001b[1;32m    442\u001b[0m             \u001b[0;32mexcept\u001b[0m \u001b[0mOpenSSL\u001b[0m\u001b[0;34m.\u001b[0m\u001b[0mSSL\u001b[0m\u001b[0;34m.\u001b[0m\u001b[0mWantReadError\u001b[0m\u001b[0;34m:\u001b[0m\u001b[0;34m\u001b[0m\u001b[0m\n\u001b[0;32m--> 443\u001b[0;31m                 \u001b[0mrd\u001b[0m \u001b[0;34m=\u001b[0m \u001b[0mutil\u001b[0m\u001b[0;34m.\u001b[0m\u001b[0mwait_for_read\u001b[0m\u001b[0;34m(\u001b[0m\u001b[0msock\u001b[0m\u001b[0;34m,\u001b[0m \u001b[0msock\u001b[0m\u001b[0;34m.\u001b[0m\u001b[0mgettimeout\u001b[0m\u001b[0;34m(\u001b[0m\u001b[0;34m)\u001b[0m\u001b[0;34m)\u001b[0m\u001b[0;34m\u001b[0m\u001b[0m\n\u001b[0m\u001b[1;32m    444\u001b[0m                 \u001b[0;32mif\u001b[0m \u001b[0;32mnot\u001b[0m \u001b[0mrd\u001b[0m\u001b[0;34m:\u001b[0m\u001b[0;34m\u001b[0m\u001b[0m\n\u001b[1;32m    445\u001b[0m                     \u001b[0;32mraise\u001b[0m \u001b[0mtimeout\u001b[0m\u001b[0;34m(\u001b[0m\u001b[0;34m'select timed out'\u001b[0m\u001b[0;34m)\u001b[0m\u001b[0;34m\u001b[0m\u001b[0m\n",
      "\u001b[0;32m/opt/conda/lib/python3.6/site-packages/urllib3/util/wait.py\u001b[0m in \u001b[0;36mwait_for_read\u001b[0;34m(socks, timeout)\u001b[0m\n\u001b[1;32m     31\u001b[0m     \u001b[0;32mor\u001b[0m \u001b[0moptionally\u001b[0m \u001b[0ma\u001b[0m \u001b[0msingle\u001b[0m \u001b[0msocket\u001b[0m \u001b[0;32mif\u001b[0m \u001b[0mpassed\u001b[0m \u001b[0;32min\u001b[0m\u001b[0;34m.\u001b[0m \u001b[0mReturns\u001b[0m \u001b[0ma\u001b[0m \u001b[0mlist\u001b[0m \u001b[0mof\u001b[0m\u001b[0;34m\u001b[0m\u001b[0m\n\u001b[1;32m     32\u001b[0m     sockets that can be read from immediately. \"\"\"\n\u001b[0;32m---> 33\u001b[0;31m     \u001b[0;32mreturn\u001b[0m \u001b[0m_wait_for_io_events\u001b[0m\u001b[0;34m(\u001b[0m\u001b[0msocks\u001b[0m\u001b[0;34m,\u001b[0m \u001b[0mEVENT_READ\u001b[0m\u001b[0;34m,\u001b[0m \u001b[0mtimeout\u001b[0m\u001b[0;34m)\u001b[0m\u001b[0;34m\u001b[0m\u001b[0m\n\u001b[0m\u001b[1;32m     34\u001b[0m \u001b[0;34m\u001b[0m\u001b[0m\n\u001b[1;32m     35\u001b[0m \u001b[0;34m\u001b[0m\u001b[0m\n",
      "\u001b[0;32m/opt/conda/lib/python3.6/site-packages/urllib3/util/wait.py\u001b[0m in \u001b[0;36m_wait_for_io_events\u001b[0;34m(socks, events, timeout)\u001b[0m\n\u001b[1;32m     24\u001b[0m             \u001b[0mselector\u001b[0m\u001b[0;34m.\u001b[0m\u001b[0mregister\u001b[0m\u001b[0;34m(\u001b[0m\u001b[0msock\u001b[0m\u001b[0;34m,\u001b[0m \u001b[0mevents\u001b[0m\u001b[0;34m)\u001b[0m\u001b[0;34m\u001b[0m\u001b[0m\n\u001b[1;32m     25\u001b[0m         return [key[0].fileobj for key in\n\u001b[0;32m---> 26\u001b[0;31m                 selector.select(timeout) if key[1] & events]\n\u001b[0m\u001b[1;32m     27\u001b[0m \u001b[0;34m\u001b[0m\u001b[0m\n\u001b[1;32m     28\u001b[0m \u001b[0;34m\u001b[0m\u001b[0m\n",
      "\u001b[0;32m/opt/conda/lib/python3.6/site-packages/urllib3/util/selectors.py\u001b[0m in \u001b[0;36mselect\u001b[0;34m(self, timeout)\u001b[0m\n\u001b[1;32m    436\u001b[0m             fd_events = _syscall_wrapper(self._epoll.poll, True,\n\u001b[1;32m    437\u001b[0m                                          \u001b[0mtimeout\u001b[0m\u001b[0;34m=\u001b[0m\u001b[0mtimeout\u001b[0m\u001b[0;34m,\u001b[0m\u001b[0;34m\u001b[0m\u001b[0m\n\u001b[0;32m--> 438\u001b[0;31m                                          maxevents=max_events)\n\u001b[0m\u001b[1;32m    439\u001b[0m             \u001b[0;32mfor\u001b[0m \u001b[0mfd\u001b[0m\u001b[0;34m,\u001b[0m \u001b[0mevent_mask\u001b[0m \u001b[0;32min\u001b[0m \u001b[0mfd_events\u001b[0m\u001b[0;34m:\u001b[0m\u001b[0;34m\u001b[0m\u001b[0m\n\u001b[1;32m    440\u001b[0m                 \u001b[0mevents\u001b[0m \u001b[0;34m=\u001b[0m \u001b[0;36m0\u001b[0m\u001b[0;34m\u001b[0m\u001b[0m\n",
      "\u001b[0;32m/opt/conda/lib/python3.6/site-packages/urllib3/util/selectors.py\u001b[0m in \u001b[0;36m_syscall_wrapper\u001b[0;34m(func, _, *args, **kwargs)\u001b[0m\n\u001b[1;32m     62\u001b[0m         and recalculate their timeouts. \"\"\"\n\u001b[1;32m     63\u001b[0m         \u001b[0;32mtry\u001b[0m\u001b[0;34m:\u001b[0m\u001b[0;34m\u001b[0m\u001b[0m\n\u001b[0;32m---> 64\u001b[0;31m             \u001b[0;32mreturn\u001b[0m \u001b[0mfunc\u001b[0m\u001b[0;34m(\u001b[0m\u001b[0;34m*\u001b[0m\u001b[0margs\u001b[0m\u001b[0;34m,\u001b[0m \u001b[0;34m**\u001b[0m\u001b[0mkwargs\u001b[0m\u001b[0;34m)\u001b[0m\u001b[0;34m\u001b[0m\u001b[0m\n\u001b[0m\u001b[1;32m     65\u001b[0m         \u001b[0;32mexcept\u001b[0m \u001b[0;34m(\u001b[0m\u001b[0mOSError\u001b[0m\u001b[0;34m,\u001b[0m \u001b[0mIOError\u001b[0m\u001b[0;34m,\u001b[0m \u001b[0mselect\u001b[0m\u001b[0;34m.\u001b[0m\u001b[0merror\u001b[0m\u001b[0;34m)\u001b[0m \u001b[0;32mas\u001b[0m \u001b[0me\u001b[0m\u001b[0;34m:\u001b[0m\u001b[0;34m\u001b[0m\u001b[0m\n\u001b[1;32m     66\u001b[0m             \u001b[0merrcode\u001b[0m \u001b[0;34m=\u001b[0m \u001b[0;32mNone\u001b[0m\u001b[0;34m\u001b[0m\u001b[0m\n",
      "\u001b[0;31mKeyboardInterrupt\u001b[0m: "
     ]
    }
   ],
   "source": [
    "import tweepy\n",
    "from tweepy import OAuthHandler\n",
    "import json\n",
    "from timeit import default_timer as timer\n",
    "\n",
    "# Query Twitter API for each tweet in the Twitter archive and save JSON in a text file\n",
    "# These are hidden to comply with Twitter's API terms and conditions\n",
    "# consumer_key = 'u6PW6MUP0QwIawrHOAOXpt4rW'\n",
    "# consumer_secret = 'UqNUN9av31F56HBg4zAQQ1bY4GjjvDySrPHwwMZJcAmbIy8Q8D'\n",
    "# access_token = '292463172-TJb023mBZcIOfSJtmkuqA41Njfcnr2Vj2gMG4Cfd'\n",
    "# access_secret = 'SH7gPDSqTHkjjabHdAymNTUx4EP7IwXA2pjsrSpybweFC'\n",
    "\n",
    "# auth = OAuthHandler(consumer_key, consumer_secret)\n",
    "# auth.set_access_token(access_token, access_secret)\n",
    "\n",
    "# api = tweepy.API(auth, wait_on_rate_limit=True)\n",
    "\n",
    "# NOTE TO STUDENT WITH MOBILE VERIFICATION ISSUES:\n",
    "# df_1 is a DataFrame with the twitter_archive_enhanced.csv file. You may have to\n",
    "# change line 17 to match the name of your DataFrame with twitter_archive_enhanced.csv\n",
    "# NOTE TO REVIEWER: this student had mobile verification issues so the following\n",
    "# Twitter API code was sent to this student from a Udacity instructor\n",
    "# Tweet IDs for which to gather additional data via Twitter's API\n",
    "tweet_ids = tw_archive_df.tweet_id.astype('int').values\n",
    "print(len(tweet_ids))\n",
    "\n",
    "# Query Twitter's API for JSON data for each tweet ID in the Twitter archive\n",
    "count = 0\n",
    "fails_dict = {}\n",
    "start = timer()\n",
    "# Save each tweet's returned JSON as a new line in a .txt file\n",
    "with open('tweet_json_2.txt', 'w') as outfile:\n",
    "    # This loop will likely take 20-30 minutes to run because of Twitter's rate limit\n",
    "    for tweet_id in tweet_ids:\n",
    "        count += 1\n",
    "        print(str(count) + \": \" + str(tweet_id))\n",
    "        try:\n",
    "            tweet = api.get_status(tweet_id, tweet_mode='extended')\n",
    "            print(\"Success\")\n",
    "            json.dump(tweet._json, outfile)\n",
    "            outfile.write('\\n')\n",
    "        except tweepy.TweepError as e:\n",
    "            print(\"Fail\")\n",
    "            fails_dict[tweet_id] = e\n",
    "            pass\n",
    "end = timer()\n",
    "print(end - start)\n",
    "print(fails_dict)"
   ]
  },
  {
   "cell_type": "markdown",
   "metadata": {},
   "source": [
    " ### The code in the above cell also failed.<br>\n",
    " ### I'm using the provided tweet-json.txt file for the rest of the notebook"
   ]
  },
  {
   "cell_type": "code",
   "execution_count": 2,
   "metadata": {},
   "outputs": [],
   "source": [
    "with open('tweet-json.txt', 'r') as f:\n",
    "    tweet_df = pd.DataFrame(columns=json.loads(f.readline()).keys())      "
   ]
  },
  {
   "cell_type": "code",
   "execution_count": 3,
   "metadata": {
    "scrolled": true
   },
   "outputs": [
    {
     "data": {
      "text/html": [
       "<div>\n",
       "<style scoped>\n",
       "    .dataframe tbody tr th:only-of-type {\n",
       "        vertical-align: middle;\n",
       "    }\n",
       "\n",
       "    .dataframe tbody tr th {\n",
       "        vertical-align: top;\n",
       "    }\n",
       "\n",
       "    .dataframe thead th {\n",
       "        text-align: right;\n",
       "    }\n",
       "</style>\n",
       "<table border=\"1\" class=\"dataframe\">\n",
       "  <thead>\n",
       "    <tr style=\"text-align: right;\">\n",
       "      <th></th>\n",
       "      <th>created_at</th>\n",
       "      <th>id</th>\n",
       "      <th>id_str</th>\n",
       "      <th>full_text</th>\n",
       "      <th>truncated</th>\n",
       "      <th>display_text_range</th>\n",
       "      <th>entities</th>\n",
       "      <th>extended_entities</th>\n",
       "      <th>source</th>\n",
       "      <th>in_reply_to_status_id</th>\n",
       "      <th>...</th>\n",
       "      <th>place</th>\n",
       "      <th>contributors</th>\n",
       "      <th>is_quote_status</th>\n",
       "      <th>retweet_count</th>\n",
       "      <th>favorite_count</th>\n",
       "      <th>favorited</th>\n",
       "      <th>retweeted</th>\n",
       "      <th>possibly_sensitive</th>\n",
       "      <th>possibly_sensitive_appealable</th>\n",
       "      <th>lang</th>\n",
       "    </tr>\n",
       "  </thead>\n",
       "  <tbody>\n",
       "  </tbody>\n",
       "</table>\n",
       "<p>0 rows × 27 columns</p>\n",
       "</div>"
      ],
      "text/plain": [
       "Empty DataFrame\n",
       "Columns: [created_at, id, id_str, full_text, truncated, display_text_range, entities, extended_entities, source, in_reply_to_status_id, in_reply_to_status_id_str, in_reply_to_user_id, in_reply_to_user_id_str, in_reply_to_screen_name, user, geo, coordinates, place, contributors, is_quote_status, retweet_count, favorite_count, favorited, retweeted, possibly_sensitive, possibly_sensitive_appealable, lang]\n",
       "Index: []\n",
       "\n",
       "[0 rows x 27 columns]"
      ]
     },
     "execution_count": 3,
     "metadata": {},
     "output_type": "execute_result"
    }
   ],
   "source": [
    "tweet_df.head()"
   ]
  },
  {
   "cell_type": "code",
   "execution_count": 4,
   "metadata": {},
   "outputs": [
    {
     "data": {
      "text/plain": [
       "(2354, 31)"
      ]
     },
     "execution_count": 4,
     "metadata": {},
     "output_type": "execute_result"
    }
   ],
   "source": [
    "with open('tweet-json.txt', 'r') as f:  \n",
    "    for line in f.readlines():\n",
    "        tweet_df = tweet_df.append(json.loads(line), ignore_index=True)   \n",
    "        \n",
    "tweet_df.shape"
   ]
  },
  {
   "cell_type": "markdown",
   "metadata": {},
   "source": [
    "### 4. Change tweet_id and id columns to str type"
   ]
  },
  {
   "cell_type": "code",
   "execution_count": 5,
   "metadata": {},
   "outputs": [
    {
     "ename": "NameError",
     "evalue": "name 'tw_archive_df' is not defined",
     "output_type": "error",
     "traceback": [
      "\u001b[0;31m---------------------------------------------------------------------------\u001b[0m",
      "\u001b[0;31mNameError\u001b[0m                                 Traceback (most recent call last)",
      "\u001b[0;32m<ipython-input-5-d6deefb47c20>\u001b[0m in \u001b[0;36m<module>\u001b[0;34m()\u001b[0m\n\u001b[0;32m----> 1\u001b[0;31m \u001b[0mtw_archive_df\u001b[0m\u001b[0;34m[\u001b[0m\u001b[0;34m'tweet_id'\u001b[0m\u001b[0;34m]\u001b[0m \u001b[0;34m=\u001b[0m \u001b[0mtw_archive_df\u001b[0m\u001b[0;34m[\u001b[0m\u001b[0;34m'tweet_id'\u001b[0m\u001b[0;34m]\u001b[0m\u001b[0;34m.\u001b[0m\u001b[0mastype\u001b[0m\u001b[0;34m(\u001b[0m\u001b[0mstr\u001b[0m\u001b[0;34m)\u001b[0m\u001b[0;34m\u001b[0m\u001b[0m\n\u001b[0m",
      "\u001b[0;31mNameError\u001b[0m: name 'tw_archive_df' is not defined"
     ]
    }
   ],
   "source": [
    "tw_archive_df['tweet_id'] = tw_archive_df['tweet_id'].astype(str)"
   ]
  },
  {
   "cell_type": "code",
   "execution_count": null,
   "metadata": {},
   "outputs": [],
   "source": [
    "tweet_df['id'] = tweet_df['id'].astype(str)"
   ]
  },
  {
   "cell_type": "markdown",
   "metadata": {},
   "source": [
    "### I'm only interested in id, retweet_count, and favorite_count columns"
   ]
  },
  {
   "cell_type": "code",
   "execution_count": 18,
   "metadata": {},
   "outputs": [],
   "source": [
    "tweet_df2 = tweet_df[['id', 'retweet_count', 'favorite_count']]"
   ]
  },
  {
   "cell_type": "code",
   "execution_count": 19,
   "metadata": {},
   "outputs": [
    {
     "data": {
      "text/html": [
       "<div>\n",
       "<style scoped>\n",
       "    .dataframe tbody tr th:only-of-type {\n",
       "        vertical-align: middle;\n",
       "    }\n",
       "\n",
       "    .dataframe tbody tr th {\n",
       "        vertical-align: top;\n",
       "    }\n",
       "\n",
       "    .dataframe thead th {\n",
       "        text-align: right;\n",
       "    }\n",
       "</style>\n",
       "<table border=\"1\" class=\"dataframe\">\n",
       "  <thead>\n",
       "    <tr style=\"text-align: right;\">\n",
       "      <th></th>\n",
       "      <th>id</th>\n",
       "      <th>retweet_count</th>\n",
       "      <th>favorite_count</th>\n",
       "    </tr>\n",
       "  </thead>\n",
       "  <tbody>\n",
       "    <tr>\n",
       "      <th>0</th>\n",
       "      <td>892420643555336193</td>\n",
       "      <td>8853</td>\n",
       "      <td>39467</td>\n",
       "    </tr>\n",
       "    <tr>\n",
       "      <th>1</th>\n",
       "      <td>892177421306343426</td>\n",
       "      <td>6514</td>\n",
       "      <td>33819</td>\n",
       "    </tr>\n",
       "    <tr>\n",
       "      <th>2</th>\n",
       "      <td>891815181378084864</td>\n",
       "      <td>4328</td>\n",
       "      <td>25461</td>\n",
       "    </tr>\n",
       "    <tr>\n",
       "      <th>3</th>\n",
       "      <td>891689557279858688</td>\n",
       "      <td>8964</td>\n",
       "      <td>42908</td>\n",
       "    </tr>\n",
       "    <tr>\n",
       "      <th>4</th>\n",
       "      <td>891327558926688256</td>\n",
       "      <td>9774</td>\n",
       "      <td>41048</td>\n",
       "    </tr>\n",
       "  </tbody>\n",
       "</table>\n",
       "</div>"
      ],
      "text/plain": [
       "                   id retweet_count favorite_count\n",
       "0  892420643555336193          8853          39467\n",
       "1  892177421306343426          6514          33819\n",
       "2  891815181378084864          4328          25461\n",
       "3  891689557279858688          8964          42908\n",
       "4  891327558926688256          9774          41048"
      ]
     },
     "execution_count": 19,
     "metadata": {},
     "output_type": "execute_result"
    }
   ],
   "source": [
    "tweet_df2.head(5)"
   ]
  },
  {
   "cell_type": "markdown",
   "metadata": {},
   "source": [
    "### 5. Merge retweet count and favorite count columns from tweet_df with tw_archive_df and create twitter_archive_master_df"
   ]
  },
  {
   "cell_type": "code",
   "execution_count": 20,
   "metadata": {
    "scrolled": true
   },
   "outputs": [],
   "source": [
    "twitter_archive_master = (tw_archive_df.set_index('tweet_id')).join(tweet_df2.set_index('id'))"
   ]
  },
  {
   "cell_type": "code",
   "execution_count": 21,
   "metadata": {
    "scrolled": true
   },
   "outputs": [
    {
     "name": "stdout",
     "output_type": "stream",
     "text": [
      "<class 'pandas.core.frame.DataFrame'>\n",
      "Int64Index: 2356 entries, 892420643555335936 to 666020888022790016\n",
      "Data columns (total 20 columns):\n",
      "in_reply_to_status_id         78 non-null float64\n",
      "in_reply_to_user_id           78 non-null float64\n",
      "timestamp                     2356 non-null object\n",
      "source                        2356 non-null object\n",
      "text                          2356 non-null object\n",
      "retweeted_status_id           223 non-null object\n",
      "retweeted_status_user_id      184 non-null object\n",
      "retweeted_status_timestamp    181 non-null object\n",
      "expanded_urls                 2257 non-null object\n",
      "rating_numerator              2351 non-null object\n",
      "rating_denominator            2356 non-null object\n",
      "name                          2356 non-null object\n",
      "doggo                         2356 non-null object\n",
      "floofer                       2356 non-null object\n",
      "pupper                        2356 non-null object\n",
      "puppo                         2356 non-null object\n",
      "Unnamed: 17                   44 non-null object\n",
      "Unnamed: 18                   3 non-null object\n",
      "retweet_count                 215 non-null object\n",
      "favorite_count                215 non-null object\n",
      "dtypes: float64(2), object(18)\n",
      "memory usage: 466.5+ KB\n"
     ]
    }
   ],
   "source": [
    "twitter_archive_master.info()"
   ]
  },
  {
   "cell_type": "markdown",
   "metadata": {},
   "source": [
    "### When I tried to join by tweet_id, the number of non-null retweet count and favorit count reduced to 338 after join!! "
   ]
  },
  {
   "cell_type": "markdown",
   "metadata": {},
   "source": [
    "### I've looked in the twitter_archive_enhanced (tw_archive_df) and found that the tweet_id values are different from the id values of the tweets that are retreived from twitter (in tweet-json.txt file) although they have the same timestamps.\n"
   ]
  },
  {
   "cell_type": "code",
   "execution_count": 22,
   "metadata": {},
   "outputs": [
    {
     "data": {
      "text/plain": [
       "(892420643555336193, 892420643555335936)"
      ]
     },
     "execution_count": 22,
     "metadata": {},
     "output_type": "execute_result"
    }
   ],
   "source": [
    "tweet_df.loc[0,'id'], tw_archive_df.loc[0,'tweet_id']"
   ]
  },
  {
   "cell_type": "code",
   "execution_count": 23,
   "metadata": {
    "scrolled": true
   },
   "outputs": [
    {
     "data": {
      "text/plain": [
       "('Tue Aug 01 16:23:56 +0000 2017', '2017-08-01 16:23:56 +0000')"
      ]
     },
     "execution_count": 23,
     "metadata": {},
     "output_type": "execute_result"
    }
   ],
   "source": [
    "tweet_df.loc[0,'created_at'], tw_archive_df.loc[0,'timestamp']"
   ]
  },
  {
   "cell_type": "markdown",
   "metadata": {},
   "source": [
    "### I'll join using created_at and timestamp columns instead"
   ]
  },
  {
   "cell_type": "code",
   "execution_count": 24,
   "metadata": {},
   "outputs": [],
   "source": [
    "tweet_df2 = tweet_df[['created_at', 'id_str', 'retweet_count', 'favorite_count']]"
   ]
  },
  {
   "cell_type": "code",
   "execution_count": 25,
   "metadata": {
    "scrolled": true
   },
   "outputs": [
    {
     "name": "stderr",
     "output_type": "stream",
     "text": [
      "/opt/conda/lib/python3.6/site-packages/ipykernel_launcher.py:1: SettingWithCopyWarning: \n",
      "A value is trying to be set on a copy of a slice from a DataFrame.\n",
      "Try using .loc[row_indexer,col_indexer] = value instead\n",
      "\n",
      "See the caveats in the documentation: http://pandas.pydata.org/pandas-docs/stable/indexing.html#indexing-view-versus-copy\n",
      "  \"\"\"Entry point for launching an IPython kernel.\n"
     ]
    }
   ],
   "source": [
    "tweet_df2['created_at'] = pd.to_datetime(tweet_df2['created_at'])\n",
    "tw_archive_df['timestamp'] = pd.to_datetime(tw_archive_df['timestamp'])"
   ]
  },
  {
   "cell_type": "code",
   "execution_count": 26,
   "metadata": {},
   "outputs": [],
   "source": [
    "twitter_archive_master = tweet_df2.join(tw_archive_df.set_index('timestamp'), on='created_at')"
   ]
  },
  {
   "cell_type": "code",
   "execution_count": 27,
   "metadata": {},
   "outputs": [],
   "source": [
    "twitter_archive_master.to_csv('twitter_archive_master_v0', index=False)"
   ]
  },
  {
   "cell_type": "code",
   "execution_count": 28,
   "metadata": {},
   "outputs": [],
   "source": [
    "twitter_archive_master = pd.read_csv('twitter_archive_master_v0')"
   ]
  },
  {
   "cell_type": "markdown",
   "metadata": {},
   "source": [
    "# Assessing"
   ]
  },
  {
   "cell_type": "code",
   "execution_count": 29,
   "metadata": {
    "scrolled": false
   },
   "outputs": [
    {
     "data": {
      "text/html": [
       "<div>\n",
       "<style scoped>\n",
       "    .dataframe tbody tr th:only-of-type {\n",
       "        vertical-align: middle;\n",
       "    }\n",
       "\n",
       "    .dataframe tbody tr th {\n",
       "        vertical-align: top;\n",
       "    }\n",
       "\n",
       "    .dataframe thead th {\n",
       "        text-align: right;\n",
       "    }\n",
       "</style>\n",
       "<table border=\"1\" class=\"dataframe\">\n",
       "  <thead>\n",
       "    <tr style=\"text-align: right;\">\n",
       "      <th></th>\n",
       "      <th>tweet_id</th>\n",
       "      <th>in_reply_to_status_id</th>\n",
       "      <th>in_reply_to_user_id</th>\n",
       "      <th>timestamp</th>\n",
       "      <th>source</th>\n",
       "      <th>text</th>\n",
       "      <th>retweeted_status_id</th>\n",
       "      <th>retweeted_status_user_id</th>\n",
       "      <th>retweeted_status_timestamp</th>\n",
       "      <th>expanded_urls</th>\n",
       "      <th>rating_numerator</th>\n",
       "      <th>rating_denominator</th>\n",
       "      <th>name</th>\n",
       "      <th>doggo</th>\n",
       "      <th>floofer</th>\n",
       "      <th>pupper</th>\n",
       "      <th>puppo</th>\n",
       "      <th>Unnamed: 17</th>\n",
       "      <th>Unnamed: 18</th>\n",
       "    </tr>\n",
       "  </thead>\n",
       "  <tbody>\n",
       "    <tr>\n",
       "      <th>0</th>\n",
       "      <td>892420643555335936</td>\n",
       "      <td>NaN</td>\n",
       "      <td>NaN</td>\n",
       "      <td>2017-08-01 16:23:56</td>\n",
       "      <td>&lt;a href=\"http://twitter.com/download/iphone\" r...</td>\n",
       "      <td>This is Phineas. He's a mystical boy. Only eve...</td>\n",
       "      <td>NaN</td>\n",
       "      <td>NaN</td>\n",
       "      <td>NaN</td>\n",
       "      <td>https://twitter.com/dog_rates/status/892420643...</td>\n",
       "      <td>13</td>\n",
       "      <td>10</td>\n",
       "      <td>Phineas</td>\n",
       "      <td>None</td>\n",
       "      <td>None</td>\n",
       "      <td>None</td>\n",
       "      <td>None</td>\n",
       "      <td>NaN</td>\n",
       "      <td>NaN</td>\n",
       "    </tr>\n",
       "    <tr>\n",
       "      <th>1</th>\n",
       "      <td>892177421306343040</td>\n",
       "      <td>NaN</td>\n",
       "      <td>NaN</td>\n",
       "      <td>2017-08-01 00:17:27</td>\n",
       "      <td>&lt;a href=\"http://twitter.com/download/iphone\" r...</td>\n",
       "      <td>This is Tilly. She's just checking pup on you....</td>\n",
       "      <td>NaN</td>\n",
       "      <td>NaN</td>\n",
       "      <td>NaN</td>\n",
       "      <td>https://twitter.com/dog_rates/status/892177421...</td>\n",
       "      <td>13</td>\n",
       "      <td>10</td>\n",
       "      <td>Tilly</td>\n",
       "      <td>None</td>\n",
       "      <td>None</td>\n",
       "      <td>None</td>\n",
       "      <td>None</td>\n",
       "      <td>NaN</td>\n",
       "      <td>NaN</td>\n",
       "    </tr>\n",
       "    <tr>\n",
       "      <th>2</th>\n",
       "      <td>891815181378084992</td>\n",
       "      <td>NaN</td>\n",
       "      <td>NaN</td>\n",
       "      <td>2017-07-31 00:18:03</td>\n",
       "      <td>&lt;a href=\"http://twitter.com/download/iphone\" r...</td>\n",
       "      <td>This is Archie. He is a rare Norwegian Pouncin...</td>\n",
       "      <td>NaN</td>\n",
       "      <td>NaN</td>\n",
       "      <td>NaN</td>\n",
       "      <td>https://twitter.com/dog_rates/status/891815181...</td>\n",
       "      <td>12</td>\n",
       "      <td>10</td>\n",
       "      <td>Archie</td>\n",
       "      <td>None</td>\n",
       "      <td>None</td>\n",
       "      <td>None</td>\n",
       "      <td>None</td>\n",
       "      <td>NaN</td>\n",
       "      <td>NaN</td>\n",
       "    </tr>\n",
       "    <tr>\n",
       "      <th>3</th>\n",
       "      <td>891689557279858944</td>\n",
       "      <td>NaN</td>\n",
       "      <td>NaN</td>\n",
       "      <td>2017-07-30 15:58:51</td>\n",
       "      <td>&lt;a href=\"http://twitter.com/download/iphone\" r...</td>\n",
       "      <td>This is Darla. She commenced a snooze mid meal...</td>\n",
       "      <td>NaN</td>\n",
       "      <td>NaN</td>\n",
       "      <td>NaN</td>\n",
       "      <td>https://twitter.com/dog_rates/status/891689557...</td>\n",
       "      <td>13</td>\n",
       "      <td>10</td>\n",
       "      <td>Darla</td>\n",
       "      <td>None</td>\n",
       "      <td>None</td>\n",
       "      <td>None</td>\n",
       "      <td>None</td>\n",
       "      <td>NaN</td>\n",
       "      <td>NaN</td>\n",
       "    </tr>\n",
       "    <tr>\n",
       "      <th>4</th>\n",
       "      <td>891327558926688000</td>\n",
       "      <td>NaN</td>\n",
       "      <td>NaN</td>\n",
       "      <td>2017-07-29 16:00:24</td>\n",
       "      <td>&lt;a href=\"http://twitter.com/download/iphone\" r...</td>\n",
       "      <td>This is Franklin. He would like you to stop ca...</td>\n",
       "      <td>NaN</td>\n",
       "      <td>NaN</td>\n",
       "      <td>NaN</td>\n",
       "      <td>https://twitter.com/dog_rates/status/891327558...</td>\n",
       "      <td>12</td>\n",
       "      <td>10</td>\n",
       "      <td>Franklin</td>\n",
       "      <td>None</td>\n",
       "      <td>None</td>\n",
       "      <td>None</td>\n",
       "      <td>None</td>\n",
       "      <td>NaN</td>\n",
       "      <td>NaN</td>\n",
       "    </tr>\n",
       "  </tbody>\n",
       "</table>\n",
       "</div>"
      ],
      "text/plain": [
       "             tweet_id  in_reply_to_status_id  in_reply_to_user_id  \\\n",
       "0  892420643555335936                    NaN                  NaN   \n",
       "1  892177421306343040                    NaN                  NaN   \n",
       "2  891815181378084992                    NaN                  NaN   \n",
       "3  891689557279858944                    NaN                  NaN   \n",
       "4  891327558926688000                    NaN                  NaN   \n",
       "\n",
       "            timestamp                                             source  \\\n",
       "0 2017-08-01 16:23:56  <a href=\"http://twitter.com/download/iphone\" r...   \n",
       "1 2017-08-01 00:17:27  <a href=\"http://twitter.com/download/iphone\" r...   \n",
       "2 2017-07-31 00:18:03  <a href=\"http://twitter.com/download/iphone\" r...   \n",
       "3 2017-07-30 15:58:51  <a href=\"http://twitter.com/download/iphone\" r...   \n",
       "4 2017-07-29 16:00:24  <a href=\"http://twitter.com/download/iphone\" r...   \n",
       "\n",
       "                                                text retweeted_status_id  \\\n",
       "0  This is Phineas. He's a mystical boy. Only eve...                 NaN   \n",
       "1  This is Tilly. She's just checking pup on you....                 NaN   \n",
       "2  This is Archie. He is a rare Norwegian Pouncin...                 NaN   \n",
       "3  This is Darla. She commenced a snooze mid meal...                 NaN   \n",
       "4  This is Franklin. He would like you to stop ca...                 NaN   \n",
       "\n",
       "  retweeted_status_user_id retweeted_status_timestamp  \\\n",
       "0                      NaN                        NaN   \n",
       "1                      NaN                        NaN   \n",
       "2                      NaN                        NaN   \n",
       "3                      NaN                        NaN   \n",
       "4                      NaN                        NaN   \n",
       "\n",
       "                                       expanded_urls rating_numerator  \\\n",
       "0  https://twitter.com/dog_rates/status/892420643...               13   \n",
       "1  https://twitter.com/dog_rates/status/892177421...               13   \n",
       "2  https://twitter.com/dog_rates/status/891815181...               12   \n",
       "3  https://twitter.com/dog_rates/status/891689557...               13   \n",
       "4  https://twitter.com/dog_rates/status/891327558...               12   \n",
       "\n",
       "  rating_denominator      name doggo floofer pupper puppo Unnamed: 17  \\\n",
       "0                 10   Phineas  None    None   None  None         NaN   \n",
       "1                 10     Tilly  None    None   None  None         NaN   \n",
       "2                 10    Archie  None    None   None  None         NaN   \n",
       "3                 10     Darla  None    None   None  None         NaN   \n",
       "4                 10  Franklin  None    None   None  None         NaN   \n",
       "\n",
       "  Unnamed: 18  \n",
       "0         NaN  \n",
       "1         NaN  \n",
       "2         NaN  \n",
       "3         NaN  \n",
       "4         NaN  "
      ]
     },
     "execution_count": 29,
     "metadata": {},
     "output_type": "execute_result"
    }
   ],
   "source": [
    "tw_archive_df.head(5)"
   ]
  },
  {
   "cell_type": "code",
   "execution_count": 30,
   "metadata": {
    "scrolled": true
   },
   "outputs": [
    {
     "name": "stdout",
     "output_type": "stream",
     "text": [
      "<class 'pandas.core.frame.DataFrame'>\n",
      "RangeIndex: 2356 entries, 0 to 2355\n",
      "Data columns (total 19 columns):\n",
      "tweet_id                      2356 non-null int64\n",
      "in_reply_to_status_id         78 non-null float64\n",
      "in_reply_to_user_id           78 non-null float64\n",
      "timestamp                     2356 non-null datetime64[ns]\n",
      "source                        2356 non-null object\n",
      "text                          2356 non-null object\n",
      "retweeted_status_id           223 non-null object\n",
      "retweeted_status_user_id      184 non-null object\n",
      "retweeted_status_timestamp    181 non-null object\n",
      "expanded_urls                 2257 non-null object\n",
      "rating_numerator              2351 non-null object\n",
      "rating_denominator            2356 non-null object\n",
      "name                          2356 non-null object\n",
      "doggo                         2356 non-null object\n",
      "floofer                       2356 non-null object\n",
      "pupper                        2356 non-null object\n",
      "puppo                         2356 non-null object\n",
      "Unnamed: 17                   44 non-null object\n",
      "Unnamed: 18                   3 non-null object\n",
      "dtypes: datetime64[ns](1), float64(2), int64(1), object(15)\n",
      "memory usage: 349.8+ KB\n"
     ]
    }
   ],
   "source": [
    "tw_archive_df.info()"
   ]
  },
  {
   "cell_type": "code",
   "execution_count": 109,
   "metadata": {},
   "outputs": [
    {
     "data": {
      "image/png": "[encoded data removed]",
      "text/plain": [
       "<matplotlib.figure.Figure at 0x7f49c865ffd0>"
      ]
     },
     "metadata": {
      "needs_background": "light"
     },
     "output_type": "display_data"
    }
   ],
   "source": [
    "tw_archive_df.hist(figsize=(10,7));"
   ]
  },
  {
   "cell_type": "code",
   "execution_count": 32,
   "metadata": {
    "scrolled": true
   },
   "outputs": [
    {
     "data": {
      "text/plain": [
       "None        2226\n",
       "doggo         97\n",
       "10             3\n",
       "Beau           2\n",
       "Pipsy          2\n",
       "Lolo           1\n",
       "Jeb            1\n",
       "Rufio          1\n",
       "Spark          1\n",
       "Bruiser        1\n",
       "Godzilla       1\n",
       "Tedrick        1\n",
       "Dook           1\n",
       "the            1\n",
       "Daisy          1\n",
       "Jennifur       1\n",
       "Buckley        1\n",
       "Jaycob         1\n",
       "Sadie          1\n",
       "Gin            1\n",
       "Bobb           1\n",
       "Penny          1\n",
       "Jax            1\n",
       "Chesney        1\n",
       "Trooper        1\n",
       "Kallie         1\n",
       "Sid            1\n",
       "Holly          1\n",
       "Crimson        1\n",
       "Timofy         1\n",
       "Ben            1\n",
       "Name: doggo, dtype: int64"
      ]
     },
     "execution_count": 32,
     "metadata": {},
     "output_type": "execute_result"
    }
   ],
   "source": [
    "tw_archive_df['doggo'].value_counts()"
   ]
  },
  {
   "cell_type": "code",
   "execution_count": 33,
   "metadata": {},
   "outputs": [
    {
     "data": {
      "text/plain": [
       "None      2103\n",
       "pupper     253\n",
       "Name: pupper, dtype: int64"
      ]
     },
     "execution_count": 33,
     "metadata": {},
     "output_type": "execute_result"
    }
   ],
   "source": [
    "tw_archive_df['pupper'].value_counts()"
   ]
  },
  {
   "cell_type": "code",
   "execution_count": 34,
   "metadata": {
    "scrolled": true
   },
   "outputs": [
    {
     "data": {
      "text/plain": [
       "None      2322\n",
       "puppo       30\n",
       "pupper       4\n",
       "Name: puppo, dtype: int64"
      ]
     },
     "execution_count": 34,
     "metadata": {},
     "output_type": "execute_result"
    }
   ],
   "source": [
    "tw_archive_df['puppo'].value_counts()"
   ]
  },
  {
   "cell_type": "code",
   "execution_count": 35,
   "metadata": {},
   "outputs": [
    {
     "data": {
      "text/plain": [
       "None       2343\n",
       "floofer      10\n",
       "Rambo         1\n",
       "Fynn          1\n",
       "Oliviér       1\n",
       "Name: floofer, dtype: int64"
      ]
     },
     "execution_count": 35,
     "metadata": {},
     "output_type": "execute_result"
    }
   ],
   "source": [
    "tw_archive_df['floofer'].value_counts()"
   ]
  },
  {
   "cell_type": "code",
   "execution_count": 36,
   "metadata": {
    "scrolled": true
   },
   "outputs": [
    {
     "data": {
      "text/plain": [
       "array(['13', '12', '14', '5', '17', '11', nan, '10', '420', '666', '6',\n",
       "       'https://twitter.com/dog_rates/status/667152164079423490/photo/1',\n",
       "       '15', '182', '960', '0', '75', '7', '84',\n",
       "       'https://twitter.com/dog_rates/status/698195409219559425/photo/1',\n",
       "       '24', '8', '1', '27', '3', '9', '4', '165',\n",
       "       'https://twitter.com/dog_rates/status/750026558547456000/photo/1',\n",
       "       '1776',\n",
       "       'https://twitter.com/dog_rates/status/735137028879360001/photo/1',\n",
       "       '204',\n",
       "       'https://twitter.com/dog_rates/status/719367763014393856/photo/1',\n",
       "       'https://twitter.com/dog_rates/status/716791146589110272/photo/1',\n",
       "       '50', '99', '80', '45', '60', '44',\n",
       "       'https://twitter.com/dog_rates/status/693280720173801472/photo/1',\n",
       "       'https://twitter.com/dog_rates/status/691483041324204033/photo/1,https://twitter.com/dog_rates/status/691483041324204033/photo/1,https://twitter.com/dog_rates/status/691483041324204033/photo/1,https://twitter.com/dog_rates/status/691483041324204033/photo/1',\n",
       "       'https://twitter.com/dog_rates/status/690597161306841088/photo/1',\n",
       "       'https://twitter.com/dog_rates/status/687807801670897665/photo/1',\n",
       "       'https://twitter.com/dog_rates/status/686386521809772549/photo/1',\n",
       "       'https://twitter.com/dog_rates/status/684926975086034944/photo/1',\n",
       "       '143', '121',\n",
       "       'https://twitter.com/dog_rates/status/683834909291606017/video/1',\n",
       "       '20',\n",
       "       'https://twitter.com/dog_rates/status/680801747103793152/photo/1',\n",
       "       '26', '2',\n",
       "       'https://twitter.com/dog_rates/status/678446151570427904/photo/1',\n",
       "       '144',\n",
       "       'https://twitter.com/dog_rates/status/676811746707918848/photo/1',\n",
       "       'https://twitter.com/dog_rates/status/676603393314578432/photo/1',\n",
       "       'https://twitter.com/dog_rates/status/675870721063669760/photo/1',\n",
       "       '88',\n",
       "       'https://twitter.com/dog_rates/status/674737130913071104/photo/1',\n",
       "       'https://twitter.com/dog_rates/status/674670581682434048/photo/1',\n",
       "       'https://twitter.com/dog_rates/status/674646392044941312/photo/1',\n",
       "       'https://twitter.com/dog_rates/status/674372068062928900/photo/1',\n",
       "       'https://twitter.com/dog_rates/status/674036086168010753/photo/1',\n",
       "       'https://twitter.com/dog_rates/status/671768281401958400/photo/1,https://twitter.com/dog_rates/status/671768281401958400/photo/1',\n",
       "       'https://twitter.com/dog_rates/status/671561002136281088/photo/1',\n",
       "       'https://twitter.com/dog_rates/status/671154572044468225/photo/1',\n",
       "       'https://twitter.com/dog_rates/status/670755717859713024/photo/1',\n",
       "       'https://twitter.com/dog_rates/status/670046952931721218/photo/1',\n",
       "       'https://twitter.com/dog_rates/status/668960084974809088/photo/1',\n",
       "       'https://twitter.com/dog_rates/status/668852170888998912/photo/1',\n",
       "       'https://twitter.com/dog_rates/status/668627278264475648/photo/1',\n",
       "       'https://twitter.com/dog_rates/status/668620235289837568/photo/1',\n",
       "       'https://twitter.com/dog_rates/status/668537837512433665/photo/1',\n",
       "       'https://twitter.com/dog_rates/status/668221241640230912/photo/1',\n",
       "       'https://twitter.com/dog_rates/status/667878741721415682/photo/1',\n",
       "       'https://twitter.com/dog_rates/status/667517642048163840/photo/1',\n",
       "       'https://twitter.com/dog_rates/status/666835007768551424/photo/1'], dtype=object)"
      ]
     },
     "execution_count": 36,
     "metadata": {},
     "output_type": "execute_result"
    }
   ],
   "source": [
    "tw_archive_df['rating_numerator'].unique()"
   ]
  },
  {
   "cell_type": "code",
   "execution_count": 37,
   "metadata": {
    "scrolled": true
   },
   "outputs": [
    {
     "data": {
      "text/plain": [
       "None    44\n",
       "Name: Unnamed: 17, dtype: int64"
      ]
     },
     "execution_count": 37,
     "metadata": {},
     "output_type": "execute_result"
    }
   ],
   "source": [
    "tw_archive_df['Unnamed: 17'].value_counts()"
   ]
  },
  {
   "cell_type": "code",
   "execution_count": 38,
   "metadata": {},
   "outputs": [
    {
     "data": {
      "text/plain": [
       "None    3\n",
       "Name: Unnamed: 18, dtype: int64"
      ]
     },
     "execution_count": 38,
     "metadata": {},
     "output_type": "execute_result"
    }
   ],
   "source": [
    "tw_archive_df['Unnamed: 18'].value_counts()"
   ]
  },
  {
   "cell_type": "code",
   "execution_count": 39,
   "metadata": {},
   "outputs": [
    {
     "data": {
      "text/html": [
       "<div>\n",
       "<style scoped>\n",
       "    .dataframe tbody tr th:only-of-type {\n",
       "        vertical-align: middle;\n",
       "    }\n",
       "\n",
       "    .dataframe tbody tr th {\n",
       "        vertical-align: top;\n",
       "    }\n",
       "\n",
       "    .dataframe thead th {\n",
       "        text-align: right;\n",
       "    }\n",
       "</style>\n",
       "<table border=\"1\" class=\"dataframe\">\n",
       "  <thead>\n",
       "    <tr style=\"text-align: right;\">\n",
       "      <th></th>\n",
       "      <th>tweet_id</th>\n",
       "      <th>jpg_url</th>\n",
       "      <th>img_num</th>\n",
       "      <th>p1</th>\n",
       "      <th>p1_conf</th>\n",
       "      <th>p1_dog</th>\n",
       "      <th>p2</th>\n",
       "      <th>p2_conf</th>\n",
       "      <th>p2_dog</th>\n",
       "      <th>p3</th>\n",
       "      <th>p3_conf</th>\n",
       "      <th>p3_dog</th>\n",
       "    </tr>\n",
       "  </thead>\n",
       "  <tbody>\n",
       "    <tr>\n",
       "      <th>0</th>\n",
       "      <td>666020888022790149</td>\n",
       "      <td>https://pbs.twimg.com/media/CT4udn0WwAA0aMy.jpg</td>\n",
       "      <td>1</td>\n",
       "      <td>Welsh_springer_spaniel</td>\n",
       "      <td>0.465074</td>\n",
       "      <td>True</td>\n",
       "      <td>collie</td>\n",
       "      <td>0.156665</td>\n",
       "      <td>True</td>\n",
       "      <td>Shetland_sheepdog</td>\n",
       "      <td>0.061428</td>\n",
       "      <td>True</td>\n",
       "    </tr>\n",
       "    <tr>\n",
       "      <th>1</th>\n",
       "      <td>666029285002620928</td>\n",
       "      <td>https://pbs.twimg.com/media/CT42GRgUYAA5iDo.jpg</td>\n",
       "      <td>1</td>\n",
       "      <td>redbone</td>\n",
       "      <td>0.506826</td>\n",
       "      <td>True</td>\n",
       "      <td>miniature_pinscher</td>\n",
       "      <td>0.074192</td>\n",
       "      <td>True</td>\n",
       "      <td>Rhodesian_ridgeback</td>\n",
       "      <td>0.072010</td>\n",
       "      <td>True</td>\n",
       "    </tr>\n",
       "    <tr>\n",
       "      <th>2</th>\n",
       "      <td>666033412701032449</td>\n",
       "      <td>https://pbs.twimg.com/media/CT4521TWwAEvMyu.jpg</td>\n",
       "      <td>1</td>\n",
       "      <td>German_shepherd</td>\n",
       "      <td>0.596461</td>\n",
       "      <td>True</td>\n",
       "      <td>malinois</td>\n",
       "      <td>0.138584</td>\n",
       "      <td>True</td>\n",
       "      <td>bloodhound</td>\n",
       "      <td>0.116197</td>\n",
       "      <td>True</td>\n",
       "    </tr>\n",
       "    <tr>\n",
       "      <th>3</th>\n",
       "      <td>666044226329800704</td>\n",
       "      <td>https://pbs.twimg.com/media/CT5Dr8HUEAA-lEu.jpg</td>\n",
       "      <td>1</td>\n",
       "      <td>Rhodesian_ridgeback</td>\n",
       "      <td>0.408143</td>\n",
       "      <td>True</td>\n",
       "      <td>redbone</td>\n",
       "      <td>0.360687</td>\n",
       "      <td>True</td>\n",
       "      <td>miniature_pinscher</td>\n",
       "      <td>0.222752</td>\n",
       "      <td>True</td>\n",
       "    </tr>\n",
       "    <tr>\n",
       "      <th>4</th>\n",
       "      <td>666049248165822465</td>\n",
       "      <td>https://pbs.twimg.com/media/CT5IQmsXIAAKY4A.jpg</td>\n",
       "      <td>1</td>\n",
       "      <td>miniature_pinscher</td>\n",
       "      <td>0.560311</td>\n",
       "      <td>True</td>\n",
       "      <td>Rottweiler</td>\n",
       "      <td>0.243682</td>\n",
       "      <td>True</td>\n",
       "      <td>Doberman</td>\n",
       "      <td>0.154629</td>\n",
       "      <td>True</td>\n",
       "    </tr>\n",
       "  </tbody>\n",
       "</table>\n",
       "</div>"
      ],
      "text/plain": [
       "             tweet_id                                          jpg_url  \\\n",
       "0  666020888022790149  https://pbs.twimg.com/media/CT4udn0WwAA0aMy.jpg   \n",
       "1  666029285002620928  https://pbs.twimg.com/media/CT42GRgUYAA5iDo.jpg   \n",
       "2  666033412701032449  https://pbs.twimg.com/media/CT4521TWwAEvMyu.jpg   \n",
       "3  666044226329800704  https://pbs.twimg.com/media/CT5Dr8HUEAA-lEu.jpg   \n",
       "4  666049248165822465  https://pbs.twimg.com/media/CT5IQmsXIAAKY4A.jpg   \n",
       "\n",
       "   img_num                      p1   p1_conf  p1_dog                  p2  \\\n",
       "0        1  Welsh_springer_spaniel  0.465074    True              collie   \n",
       "1        1                 redbone  0.506826    True  miniature_pinscher   \n",
       "2        1         German_shepherd  0.596461    True            malinois   \n",
       "3        1     Rhodesian_ridgeback  0.408143    True             redbone   \n",
       "4        1      miniature_pinscher  0.560311    True          Rottweiler   \n",
       "\n",
       "    p2_conf  p2_dog                   p3   p3_conf  p3_dog  \n",
       "0  0.156665    True    Shetland_sheepdog  0.061428    True  \n",
       "1  0.074192    True  Rhodesian_ridgeback  0.072010    True  \n",
       "2  0.138584    True           bloodhound  0.116197    True  \n",
       "3  0.360687    True   miniature_pinscher  0.222752    True  \n",
       "4  0.243682    True             Doberman  0.154629    True  "
      ]
     },
     "execution_count": 39,
     "metadata": {},
     "output_type": "execute_result"
    }
   ],
   "source": [
    "image_predictions_df.head(5)"
   ]
  },
  {
   "cell_type": "code",
   "execution_count": 40,
   "metadata": {},
   "outputs": [
    {
     "name": "stdout",
     "output_type": "stream",
     "text": [
      "<class 'pandas.core.frame.DataFrame'>\n",
      "RangeIndex: 2075 entries, 0 to 2074\n",
      "Data columns (total 12 columns):\n",
      "tweet_id    2075 non-null int64\n",
      "jpg_url     2075 non-null object\n",
      "img_num     2075 non-null int64\n",
      "p1          2075 non-null object\n",
      "p1_conf     2075 non-null float64\n",
      "p1_dog      2075 non-null bool\n",
      "p2          2075 non-null object\n",
      "p2_conf     2075 non-null float64\n",
      "p2_dog      2075 non-null bool\n",
      "p3          2075 non-null object\n",
      "p3_conf     2075 non-null float64\n",
      "p3_dog      2075 non-null bool\n",
      "dtypes: bool(3), float64(3), int64(2), object(4)\n",
      "memory usage: 152.1+ KB\n"
     ]
    }
   ],
   "source": [
    "image_predictions_df.info()"
   ]
  },
  {
   "cell_type": "code",
   "execution_count": 106,
   "metadata": {},
   "outputs": [
    {
     "data": {
      "image/png": "[encoded data removed]",
      "text/plain": [
       "<matplotlib.figure.Figure at 0x7f49c69fad30>"
      ]
     },
     "metadata": {
      "needs_background": "light"
     },
     "output_type": "display_data"
    }
   ],
   "source": [
    "plt.figure(figsize=(10,7))\n",
    "plt.hist(image_predictions_df['p1_conf'], alpha = 0.5, color='blue');\n",
    "plt.hist(image_predictions_df['p2_conf'], alpha = 0.5, color = 'green');\n",
    "plt.hist(image_predictions_df['p3_conf'], alpha = 0.5, color ='red');\n",
    "\n",
    "labels= ['p1_confedence', 'p2_confedence', 'p3_confedence']\n",
    "plt.legend(labels = labels);\n",
    "\n",
    "plt.xlabel(\"Algorithm confedence\", fontsize=16);  \n",
    "plt.ylabel(\"Number of Predections\", fontsize=16);\n",
    "plt.xticks(fontsize=14);  \n",
    "plt.yticks(fontsize=14);\n",
    "plt.title('Comparing Accuracy of p1, p2 and p3 algorithms', fontsize=16);"
   ]
  },
  {
   "cell_type": "code",
   "execution_count": 41,
   "metadata": {},
   "outputs": [
    {
     "data": {
      "text/plain": [
       "(1532, 1553, 1499)"
      ]
     },
     "execution_count": 41,
     "metadata": {},
     "output_type": "execute_result"
    }
   ],
   "source": [
    "image_predictions_df.p1_dog.sum(), image_predictions_df.p2_dog.sum(), image_predictions_df.p3_dog.sum()"
   ]
  },
  {
   "cell_type": "code",
   "execution_count": 42,
   "metadata": {},
   "outputs": [
    {
     "data": {
      "text/plain": [
       "tweet_id    324\n",
       "jpg_url     324\n",
       "img_num     324\n",
       "p1          324\n",
       "p1_conf     324\n",
       "p1_dog      324\n",
       "p2          324\n",
       "p2_conf     324\n",
       "p2_dog      324\n",
       "p3          324\n",
       "p3_conf     324\n",
       "p3_dog      324\n",
       "dtype: int64"
      ]
     },
     "execution_count": 42,
     "metadata": {},
     "output_type": "execute_result"
    }
   ],
   "source": [
    "image_predictions_df.query('(p1_dog == False)&(p2_dog == False)&(p3_dog == False)').count()"
   ]
  },
  {
   "cell_type": "code",
   "execution_count": 43,
   "metadata": {},
   "outputs": [
    {
     "data": {
      "text/html": [
       "<div>\n",
       "<style scoped>\n",
       "    .dataframe tbody tr th:only-of-type {\n",
       "        vertical-align: middle;\n",
       "    }\n",
       "\n",
       "    .dataframe tbody tr th {\n",
       "        vertical-align: top;\n",
       "    }\n",
       "\n",
       "    .dataframe thead th {\n",
       "        text-align: right;\n",
       "    }\n",
       "</style>\n",
       "<table border=\"1\" class=\"dataframe\">\n",
       "  <thead>\n",
       "    <tr style=\"text-align: right;\">\n",
       "      <th></th>\n",
       "      <th>created_at</th>\n",
       "      <th>id</th>\n",
       "      <th>id_str</th>\n",
       "      <th>full_text</th>\n",
       "      <th>truncated</th>\n",
       "      <th>display_text_range</th>\n",
       "      <th>entities</th>\n",
       "      <th>extended_entities</th>\n",
       "      <th>source</th>\n",
       "      <th>in_reply_to_status_id</th>\n",
       "      <th>...</th>\n",
       "      <th>favorite_count</th>\n",
       "      <th>favorited</th>\n",
       "      <th>retweeted</th>\n",
       "      <th>possibly_sensitive</th>\n",
       "      <th>possibly_sensitive_appealable</th>\n",
       "      <th>lang</th>\n",
       "      <th>quoted_status_id</th>\n",
       "      <th>quoted_status_id_str</th>\n",
       "      <th>retweeted_status</th>\n",
       "      <th>quoted_status</th>\n",
       "    </tr>\n",
       "  </thead>\n",
       "  <tbody>\n",
       "    <tr>\n",
       "      <th>0</th>\n",
       "      <td>Tue Aug 01 16:23:56 +0000 2017</td>\n",
       "      <td>892420643555336193</td>\n",
       "      <td>892420643555336193</td>\n",
       "      <td>This is Phineas. He's a mystical boy. Only eve...</td>\n",
       "      <td>False</td>\n",
       "      <td>[0, 85]</td>\n",
       "      <td>{'hashtags': [], 'symbols': [], 'user_mentions...</td>\n",
       "      <td>{'media': [{'id': 892420639486877696, 'id_str'...</td>\n",
       "      <td>&lt;a href=\"http://twitter.com/download/iphone\" r...</td>\n",
       "      <td>None</td>\n",
       "      <td>...</td>\n",
       "      <td>39467</td>\n",
       "      <td>False</td>\n",
       "      <td>False</td>\n",
       "      <td>False</td>\n",
       "      <td>False</td>\n",
       "      <td>en</td>\n",
       "      <td>NaN</td>\n",
       "      <td>NaN</td>\n",
       "      <td>NaN</td>\n",
       "      <td>NaN</td>\n",
       "    </tr>\n",
       "    <tr>\n",
       "      <th>1</th>\n",
       "      <td>Tue Aug 01 00:17:27 +0000 2017</td>\n",
       "      <td>892177421306343426</td>\n",
       "      <td>892177421306343426</td>\n",
       "      <td>This is Tilly. She's just checking pup on you....</td>\n",
       "      <td>False</td>\n",
       "      <td>[0, 138]</td>\n",
       "      <td>{'hashtags': [], 'symbols': [], 'user_mentions...</td>\n",
       "      <td>{'media': [{'id': 892177413194625024, 'id_str'...</td>\n",
       "      <td>&lt;a href=\"http://twitter.com/download/iphone\" r...</td>\n",
       "      <td>None</td>\n",
       "      <td>...</td>\n",
       "      <td>33819</td>\n",
       "      <td>False</td>\n",
       "      <td>False</td>\n",
       "      <td>False</td>\n",
       "      <td>False</td>\n",
       "      <td>en</td>\n",
       "      <td>NaN</td>\n",
       "      <td>NaN</td>\n",
       "      <td>NaN</td>\n",
       "      <td>NaN</td>\n",
       "    </tr>\n",
       "    <tr>\n",
       "      <th>2</th>\n",
       "      <td>Mon Jul 31 00:18:03 +0000 2017</td>\n",
       "      <td>891815181378084864</td>\n",
       "      <td>891815181378084864</td>\n",
       "      <td>This is Archie. He is a rare Norwegian Pouncin...</td>\n",
       "      <td>False</td>\n",
       "      <td>[0, 121]</td>\n",
       "      <td>{'hashtags': [], 'symbols': [], 'user_mentions...</td>\n",
       "      <td>{'media': [{'id': 891815175371796480, 'id_str'...</td>\n",
       "      <td>&lt;a href=\"http://twitter.com/download/iphone\" r...</td>\n",
       "      <td>None</td>\n",
       "      <td>...</td>\n",
       "      <td>25461</td>\n",
       "      <td>False</td>\n",
       "      <td>False</td>\n",
       "      <td>False</td>\n",
       "      <td>False</td>\n",
       "      <td>en</td>\n",
       "      <td>NaN</td>\n",
       "      <td>NaN</td>\n",
       "      <td>NaN</td>\n",
       "      <td>NaN</td>\n",
       "    </tr>\n",
       "    <tr>\n",
       "      <th>3</th>\n",
       "      <td>Sun Jul 30 15:58:51 +0000 2017</td>\n",
       "      <td>891689557279858688</td>\n",
       "      <td>891689557279858688</td>\n",
       "      <td>This is Darla. She commenced a snooze mid meal...</td>\n",
       "      <td>False</td>\n",
       "      <td>[0, 79]</td>\n",
       "      <td>{'hashtags': [], 'symbols': [], 'user_mentions...</td>\n",
       "      <td>{'media': [{'id': 891689552724799489, 'id_str'...</td>\n",
       "      <td>&lt;a href=\"http://twitter.com/download/iphone\" r...</td>\n",
       "      <td>None</td>\n",
       "      <td>...</td>\n",
       "      <td>42908</td>\n",
       "      <td>False</td>\n",
       "      <td>False</td>\n",
       "      <td>False</td>\n",
       "      <td>False</td>\n",
       "      <td>en</td>\n",
       "      <td>NaN</td>\n",
       "      <td>NaN</td>\n",
       "      <td>NaN</td>\n",
       "      <td>NaN</td>\n",
       "    </tr>\n",
       "    <tr>\n",
       "      <th>4</th>\n",
       "      <td>Sat Jul 29 16:00:24 +0000 2017</td>\n",
       "      <td>891327558926688256</td>\n",
       "      <td>891327558926688256</td>\n",
       "      <td>This is Franklin. He would like you to stop ca...</td>\n",
       "      <td>False</td>\n",
       "      <td>[0, 138]</td>\n",
       "      <td>{'hashtags': [{'text': 'BarkWeek', 'indices': ...</td>\n",
       "      <td>{'media': [{'id': 891327551943041024, 'id_str'...</td>\n",
       "      <td>&lt;a href=\"http://twitter.com/download/iphone\" r...</td>\n",
       "      <td>None</td>\n",
       "      <td>...</td>\n",
       "      <td>41048</td>\n",
       "      <td>False</td>\n",
       "      <td>False</td>\n",
       "      <td>False</td>\n",
       "      <td>False</td>\n",
       "      <td>en</td>\n",
       "      <td>NaN</td>\n",
       "      <td>NaN</td>\n",
       "      <td>NaN</td>\n",
       "      <td>NaN</td>\n",
       "    </tr>\n",
       "  </tbody>\n",
       "</table>\n",
       "<p>5 rows × 31 columns</p>\n",
       "</div>"
      ],
      "text/plain": [
       "                       created_at                  id              id_str  \\\n",
       "0  Tue Aug 01 16:23:56 +0000 2017  892420643555336193  892420643555336193   \n",
       "1  Tue Aug 01 00:17:27 +0000 2017  892177421306343426  892177421306343426   \n",
       "2  Mon Jul 31 00:18:03 +0000 2017  891815181378084864  891815181378084864   \n",
       "3  Sun Jul 30 15:58:51 +0000 2017  891689557279858688  891689557279858688   \n",
       "4  Sat Jul 29 16:00:24 +0000 2017  891327558926688256  891327558926688256   \n",
       "\n",
       "                                           full_text truncated  \\\n",
       "0  This is Phineas. He's a mystical boy. Only eve...     False   \n",
       "1  This is Tilly. She's just checking pup on you....     False   \n",
       "2  This is Archie. He is a rare Norwegian Pouncin...     False   \n",
       "3  This is Darla. She commenced a snooze mid meal...     False   \n",
       "4  This is Franklin. He would like you to stop ca...     False   \n",
       "\n",
       "  display_text_range                                           entities  \\\n",
       "0            [0, 85]  {'hashtags': [], 'symbols': [], 'user_mentions...   \n",
       "1           [0, 138]  {'hashtags': [], 'symbols': [], 'user_mentions...   \n",
       "2           [0, 121]  {'hashtags': [], 'symbols': [], 'user_mentions...   \n",
       "3            [0, 79]  {'hashtags': [], 'symbols': [], 'user_mentions...   \n",
       "4           [0, 138]  {'hashtags': [{'text': 'BarkWeek', 'indices': ...   \n",
       "\n",
       "                                   extended_entities  \\\n",
       "0  {'media': [{'id': 892420639486877696, 'id_str'...   \n",
       "1  {'media': [{'id': 892177413194625024, 'id_str'...   \n",
       "2  {'media': [{'id': 891815175371796480, 'id_str'...   \n",
       "3  {'media': [{'id': 891689552724799489, 'id_str'...   \n",
       "4  {'media': [{'id': 891327551943041024, 'id_str'...   \n",
       "\n",
       "                                              source in_reply_to_status_id  \\\n",
       "0  <a href=\"http://twitter.com/download/iphone\" r...                  None   \n",
       "1  <a href=\"http://twitter.com/download/iphone\" r...                  None   \n",
       "2  <a href=\"http://twitter.com/download/iphone\" r...                  None   \n",
       "3  <a href=\"http://twitter.com/download/iphone\" r...                  None   \n",
       "4  <a href=\"http://twitter.com/download/iphone\" r...                  None   \n",
       "\n",
       "       ...      favorite_count favorited retweeted possibly_sensitive  \\\n",
       "0      ...               39467     False     False              False   \n",
       "1      ...               33819     False     False              False   \n",
       "2      ...               25461     False     False              False   \n",
       "3      ...               42908     False     False              False   \n",
       "4      ...               41048     False     False              False   \n",
       "\n",
       "  possibly_sensitive_appealable lang quoted_status_id quoted_status_id_str  \\\n",
       "0                         False   en              NaN                  NaN   \n",
       "1                         False   en              NaN                  NaN   \n",
       "2                         False   en              NaN                  NaN   \n",
       "3                         False   en              NaN                  NaN   \n",
       "4                         False   en              NaN                  NaN   \n",
       "\n",
       "  retweeted_status quoted_status  \n",
       "0              NaN           NaN  \n",
       "1              NaN           NaN  \n",
       "2              NaN           NaN  \n",
       "3              NaN           NaN  \n",
       "4              NaN           NaN  \n",
       "\n",
       "[5 rows x 31 columns]"
      ]
     },
     "execution_count": 43,
     "metadata": {},
     "output_type": "execute_result"
    }
   ],
   "source": [
    "tweet_df.head(5)"
   ]
  },
  {
   "cell_type": "code",
   "execution_count": 112,
   "metadata": {},
   "outputs": [
    {
     "data": {
      "image/png": "[encoded data removed]",
      "text/plain": [
       "<matplotlib.figure.Figure at 0x7f49c678b978>"
      ]
     },
     "metadata": {
      "needs_background": "light"
     },
     "output_type": "display_data"
    }
   ],
   "source": [
    "tweet_df.hist(figsize=(10,5));"
   ]
  },
  {
   "cell_type": "code",
   "execution_count": 44,
   "metadata": {},
   "outputs": [
    {
     "name": "stdout",
     "output_type": "stream",
     "text": [
      "<class 'pandas.core.frame.DataFrame'>\n",
      "RangeIndex: 2354 entries, 0 to 2353\n",
      "Data columns (total 31 columns):\n",
      "created_at                       2354 non-null object\n",
      "id                               2354 non-null int64\n",
      "id_str                           2354 non-null object\n",
      "full_text                        2354 non-null object\n",
      "truncated                        2354 non-null object\n",
      "display_text_range               2354 non-null object\n",
      "entities                         2354 non-null object\n",
      "extended_entities                2073 non-null object\n",
      "source                           2354 non-null object\n",
      "in_reply_to_status_id            78 non-null object\n",
      "in_reply_to_status_id_str        78 non-null object\n",
      "in_reply_to_user_id              78 non-null object\n",
      "in_reply_to_user_id_str          78 non-null object\n",
      "in_reply_to_screen_name          78 non-null object\n",
      "user                             2354 non-null object\n",
      "geo                              0 non-null object\n",
      "coordinates                      0 non-null object\n",
      "place                            1 non-null object\n",
      "contributors                     0 non-null object\n",
      "is_quote_status                  2354 non-null object\n",
      "retweet_count                    2354 non-null object\n",
      "favorite_count                   2354 non-null object\n",
      "favorited                        2354 non-null object\n",
      "retweeted                        2354 non-null object\n",
      "possibly_sensitive               2211 non-null object\n",
      "possibly_sensitive_appealable    2211 non-null object\n",
      "lang                             2354 non-null object\n",
      "quoted_status_id                 29 non-null float64\n",
      "quoted_status_id_str             29 non-null object\n",
      "retweeted_status                 179 non-null object\n",
      "quoted_status                    28 non-null object\n",
      "dtypes: float64(1), int64(1), object(29)\n",
      "memory usage: 570.2+ KB\n"
     ]
    }
   ],
   "source": [
    "tweet_df.info()"
   ]
  },
  {
   "cell_type": "code",
   "execution_count": 45,
   "metadata": {
    "scrolled": true
   },
   "outputs": [
    {
     "data": {
      "text/html": [
       "<div>\n",
       "<style scoped>\n",
       "    .dataframe tbody tr th:only-of-type {\n",
       "        vertical-align: middle;\n",
       "    }\n",
       "\n",
       "    .dataframe tbody tr th {\n",
       "        vertical-align: top;\n",
       "    }\n",
       "\n",
       "    .dataframe thead th {\n",
       "        text-align: right;\n",
       "    }\n",
       "</style>\n",
       "<table border=\"1\" class=\"dataframe\">\n",
       "  <thead>\n",
       "    <tr style=\"text-align: right;\">\n",
       "      <th></th>\n",
       "      <th>created_at</th>\n",
       "      <th>id_str</th>\n",
       "      <th>retweet_count</th>\n",
       "      <th>favorite_count</th>\n",
       "      <th>tweet_id</th>\n",
       "      <th>in_reply_to_status_id</th>\n",
       "      <th>in_reply_to_user_id</th>\n",
       "      <th>source</th>\n",
       "      <th>text</th>\n",
       "      <th>retweeted_status_id</th>\n",
       "      <th>...</th>\n",
       "      <th>expanded_urls</th>\n",
       "      <th>rating_numerator</th>\n",
       "      <th>rating_denominator</th>\n",
       "      <th>name</th>\n",
       "      <th>doggo</th>\n",
       "      <th>floofer</th>\n",
       "      <th>pupper</th>\n",
       "      <th>puppo</th>\n",
       "      <th>Unnamed: 17</th>\n",
       "      <th>Unnamed: 18</th>\n",
       "    </tr>\n",
       "  </thead>\n",
       "  <tbody>\n",
       "    <tr>\n",
       "      <th>0</th>\n",
       "      <td>2017-08-01 16:23:56</td>\n",
       "      <td>892420643555336193</td>\n",
       "      <td>8853</td>\n",
       "      <td>39467</td>\n",
       "      <td>892420643555335936</td>\n",
       "      <td>NaN</td>\n",
       "      <td>NaN</td>\n",
       "      <td>&lt;a href=\"http://twitter.com/download/iphone\" r...</td>\n",
       "      <td>This is Phineas. He's a mystical boy. Only eve...</td>\n",
       "      <td>NaN</td>\n",
       "      <td>...</td>\n",
       "      <td>https://twitter.com/dog_rates/status/892420643...</td>\n",
       "      <td>13</td>\n",
       "      <td>10</td>\n",
       "      <td>Phineas</td>\n",
       "      <td>None</td>\n",
       "      <td>None</td>\n",
       "      <td>None</td>\n",
       "      <td>None</td>\n",
       "      <td>NaN</td>\n",
       "      <td>NaN</td>\n",
       "    </tr>\n",
       "    <tr>\n",
       "      <th>1</th>\n",
       "      <td>2017-08-01 00:17:27</td>\n",
       "      <td>892177421306343426</td>\n",
       "      <td>6514</td>\n",
       "      <td>33819</td>\n",
       "      <td>892177421306343040</td>\n",
       "      <td>NaN</td>\n",
       "      <td>NaN</td>\n",
       "      <td>&lt;a href=\"http://twitter.com/download/iphone\" r...</td>\n",
       "      <td>This is Tilly. She's just checking pup on you....</td>\n",
       "      <td>NaN</td>\n",
       "      <td>...</td>\n",
       "      <td>https://twitter.com/dog_rates/status/892177421...</td>\n",
       "      <td>13</td>\n",
       "      <td>10</td>\n",
       "      <td>Tilly</td>\n",
       "      <td>None</td>\n",
       "      <td>None</td>\n",
       "      <td>None</td>\n",
       "      <td>None</td>\n",
       "      <td>NaN</td>\n",
       "      <td>NaN</td>\n",
       "    </tr>\n",
       "    <tr>\n",
       "      <th>2</th>\n",
       "      <td>2017-07-31 00:18:03</td>\n",
       "      <td>891815181378084864</td>\n",
       "      <td>4328</td>\n",
       "      <td>25461</td>\n",
       "      <td>891815181378084992</td>\n",
       "      <td>NaN</td>\n",
       "      <td>NaN</td>\n",
       "      <td>&lt;a href=\"http://twitter.com/download/iphone\" r...</td>\n",
       "      <td>This is Archie. He is a rare Norwegian Pouncin...</td>\n",
       "      <td>NaN</td>\n",
       "      <td>...</td>\n",
       "      <td>https://twitter.com/dog_rates/status/891815181...</td>\n",
       "      <td>12</td>\n",
       "      <td>10</td>\n",
       "      <td>Archie</td>\n",
       "      <td>None</td>\n",
       "      <td>None</td>\n",
       "      <td>None</td>\n",
       "      <td>None</td>\n",
       "      <td>NaN</td>\n",
       "      <td>NaN</td>\n",
       "    </tr>\n",
       "    <tr>\n",
       "      <th>3</th>\n",
       "      <td>2017-07-30 15:58:51</td>\n",
       "      <td>891689557279858688</td>\n",
       "      <td>8964</td>\n",
       "      <td>42908</td>\n",
       "      <td>891689557279858944</td>\n",
       "      <td>NaN</td>\n",
       "      <td>NaN</td>\n",
       "      <td>&lt;a href=\"http://twitter.com/download/iphone\" r...</td>\n",
       "      <td>This is Darla. She commenced a snooze mid meal...</td>\n",
       "      <td>NaN</td>\n",
       "      <td>...</td>\n",
       "      <td>https://twitter.com/dog_rates/status/891689557...</td>\n",
       "      <td>13</td>\n",
       "      <td>10</td>\n",
       "      <td>Darla</td>\n",
       "      <td>None</td>\n",
       "      <td>None</td>\n",
       "      <td>None</td>\n",
       "      <td>None</td>\n",
       "      <td>NaN</td>\n",
       "      <td>NaN</td>\n",
       "    </tr>\n",
       "    <tr>\n",
       "      <th>4</th>\n",
       "      <td>2017-07-29 16:00:24</td>\n",
       "      <td>891327558926688256</td>\n",
       "      <td>9774</td>\n",
       "      <td>41048</td>\n",
       "      <td>891327558926688000</td>\n",
       "      <td>NaN</td>\n",
       "      <td>NaN</td>\n",
       "      <td>&lt;a href=\"http://twitter.com/download/iphone\" r...</td>\n",
       "      <td>This is Franklin. He would like you to stop ca...</td>\n",
       "      <td>NaN</td>\n",
       "      <td>...</td>\n",
       "      <td>https://twitter.com/dog_rates/status/891327558...</td>\n",
       "      <td>12</td>\n",
       "      <td>10</td>\n",
       "      <td>Franklin</td>\n",
       "      <td>None</td>\n",
       "      <td>None</td>\n",
       "      <td>None</td>\n",
       "      <td>None</td>\n",
       "      <td>NaN</td>\n",
       "      <td>NaN</td>\n",
       "    </tr>\n",
       "  </tbody>\n",
       "</table>\n",
       "<p>5 rows × 22 columns</p>\n",
       "</div>"
      ],
      "text/plain": [
       "            created_at              id_str  retweet_count  favorite_count  \\\n",
       "0  2017-08-01 16:23:56  892420643555336193           8853           39467   \n",
       "1  2017-08-01 00:17:27  892177421306343426           6514           33819   \n",
       "2  2017-07-31 00:18:03  891815181378084864           4328           25461   \n",
       "3  2017-07-30 15:58:51  891689557279858688           8964           42908   \n",
       "4  2017-07-29 16:00:24  891327558926688256           9774           41048   \n",
       "\n",
       "             tweet_id  in_reply_to_status_id  in_reply_to_user_id  \\\n",
       "0  892420643555335936                    NaN                  NaN   \n",
       "1  892177421306343040                    NaN                  NaN   \n",
       "2  891815181378084992                    NaN                  NaN   \n",
       "3  891689557279858944                    NaN                  NaN   \n",
       "4  891327558926688000                    NaN                  NaN   \n",
       "\n",
       "                                              source  \\\n",
       "0  <a href=\"http://twitter.com/download/iphone\" r...   \n",
       "1  <a href=\"http://twitter.com/download/iphone\" r...   \n",
       "2  <a href=\"http://twitter.com/download/iphone\" r...   \n",
       "3  <a href=\"http://twitter.com/download/iphone\" r...   \n",
       "4  <a href=\"http://twitter.com/download/iphone\" r...   \n",
       "\n",
       "                                                text retweeted_status_id  \\\n",
       "0  This is Phineas. He's a mystical boy. Only eve...                 NaN   \n",
       "1  This is Tilly. She's just checking pup on you....                 NaN   \n",
       "2  This is Archie. He is a rare Norwegian Pouncin...                 NaN   \n",
       "3  This is Darla. She commenced a snooze mid meal...                 NaN   \n",
       "4  This is Franklin. He would like you to stop ca...                 NaN   \n",
       "\n",
       "      ...                                          expanded_urls  \\\n",
       "0     ...      https://twitter.com/dog_rates/status/892420643...   \n",
       "1     ...      https://twitter.com/dog_rates/status/892177421...   \n",
       "2     ...      https://twitter.com/dog_rates/status/891815181...   \n",
       "3     ...      https://twitter.com/dog_rates/status/891689557...   \n",
       "4     ...      https://twitter.com/dog_rates/status/891327558...   \n",
       "\n",
       "  rating_numerator rating_denominator      name doggo floofer pupper puppo  \\\n",
       "0               13                 10   Phineas  None    None   None  None   \n",
       "1               13                 10     Tilly  None    None   None  None   \n",
       "2               12                 10    Archie  None    None   None  None   \n",
       "3               13                 10     Darla  None    None   None  None   \n",
       "4               12                 10  Franklin  None    None   None  None   \n",
       "\n",
       "  Unnamed: 17 Unnamed: 18  \n",
       "0         NaN         NaN  \n",
       "1         NaN         NaN  \n",
       "2         NaN         NaN  \n",
       "3         NaN         NaN  \n",
       "4         NaN         NaN  \n",
       "\n",
       "[5 rows x 22 columns]"
      ]
     },
     "execution_count": 45,
     "metadata": {},
     "output_type": "execute_result"
    }
   ],
   "source": [
    "twitter_archive_master.head(5)"
   ]
  },
  {
   "cell_type": "code",
   "execution_count": 46,
   "metadata": {
    "scrolled": true
   },
   "outputs": [
    {
     "name": "stdout",
     "output_type": "stream",
     "text": [
      "<class 'pandas.core.frame.DataFrame'>\n",
      "RangeIndex: 2354 entries, 0 to 2353\n",
      "Data columns (total 22 columns):\n",
      "created_at                    2354 non-null object\n",
      "id_str                        2354 non-null int64\n",
      "retweet_count                 2354 non-null int64\n",
      "favorite_count                2354 non-null int64\n",
      "tweet_id                      2354 non-null int64\n",
      "in_reply_to_status_id         78 non-null float64\n",
      "in_reply_to_user_id           78 non-null float64\n",
      "source                        2354 non-null object\n",
      "text                          2354 non-null object\n",
      "retweeted_status_id           221 non-null object\n",
      "retweeted_status_user_id      182 non-null object\n",
      "retweeted_status_timestamp    179 non-null object\n",
      "expanded_urls                 2255 non-null object\n",
      "rating_numerator              2349 non-null object\n",
      "rating_denominator            2354 non-null object\n",
      "name                          2354 non-null object\n",
      "doggo                         2354 non-null object\n",
      "floofer                       2354 non-null object\n",
      "pupper                        2354 non-null object\n",
      "puppo                         2354 non-null object\n",
      "Unnamed: 17                   44 non-null object\n",
      "Unnamed: 18                   3 non-null object\n",
      "dtypes: float64(2), int64(4), object(16)\n",
      "memory usage: 404.7+ KB\n"
     ]
    }
   ],
   "source": [
    "twitter_archive_master.info()"
   ]
  },
  {
   "cell_type": "markdown",
   "metadata": {},
   "source": [
    "**Either id_tweet column in tw_archive-enhanced or id column in tweet_df have wrong entries. I'll check which one has the right tweets id values by comparing it with the tweet id column in image predictions dataframe then I'll keep it and discard the other one.**"
   ]
  },
  {
   "cell_type": "code",
   "execution_count": 47,
   "metadata": {},
   "outputs": [],
   "source": [
    "pred_ids_in_tw_archive = []\n",
    "for id in image_predictions_df['tweet_id'].values:\n",
    "    if id in tw_archive_df['tweet_id'].values:\n",
    "        pred_ids_in_tw_archive.append(id)"
   ]
  },
  {
   "cell_type": "code",
   "execution_count": 48,
   "metadata": {},
   "outputs": [
    {
     "data": {
      "text/plain": [
       "196"
      ]
     },
     "execution_count": 48,
     "metadata": {},
     "output_type": "execute_result"
    }
   ],
   "source": [
    "len(pred_ids_in_tw_archive)"
   ]
  },
  {
   "cell_type": "code",
   "execution_count": 49,
   "metadata": {},
   "outputs": [],
   "source": [
    "pred_id_in_tweet_df = []\n",
    "for id in image_predictions_df['tweet_id'].values:\n",
    "    if id in tweet_df['id'].values:\n",
    "        pred_id_in_tweet_df.append(id)\n",
    "        "
   ]
  },
  {
   "cell_type": "code",
   "execution_count": 50,
   "metadata": {},
   "outputs": [
    {
     "data": {
      "text/plain": [
       "2073"
      ]
     },
     "execution_count": 50,
     "metadata": {},
     "output_type": "execute_result"
    }
   ],
   "source": [
    "len(pred_id_in_tweet_df)"
   ]
  },
  {
   "cell_type": "markdown",
   "metadata": {},
   "source": [
    "####  tweet_ids in tweet_df are the right ids and they are consistent with tweet_ids in image_prediction_df"
   ]
  },
  {
   "cell_type": "markdown",
   "metadata": {},
   "source": [
    "## Tidiness issues in the dataset\n"
   ]
  },
  {
   "cell_type": "markdown",
   "metadata": {},
   "source": [
    "1. All three dataframes belong to a single observational unit and they should be merged into a single dataframe.\n",
    "2. The 4 different columns doggo, floofer, pupper and puppo, are all representation of the same variable that identifies the stage of dog. Therefore they shoud be merged in a single column.\n"
   ]
  },
  {
   "cell_type": "markdown",
   "metadata": {},
   "source": [
    "## Quality issues in the dataset"
   ]
  },
  {
   "cell_type": "markdown",
   "metadata": {},
   "source": [
    "1. tweet id columns have wrong dtype. They should be str\n",
    "2. Two unrelated columns: (Unamed: 17 and Unamed:18)<br>\n",
    "3. Unrelative columns that start with \"retweet_\" since the dataset doesn't include retweets\n",
    "4. non-informative column such as rating_denominator<br>\n",
    "5. wrong entries in dog_stage column.<br>\n",
    "6. in_reply_to_status_id and in_reply_to_user_id coulmns full of missing values.\n",
    "7. replace tweet_id column values (wrong enteries) in twitter_archive_master_df with values from id column in tweet_df  \n",
    "8. rating_numerator column has several quality issues: There are some rating values that are not correctly extracted and wrong dtype."
   ]
  },
  {
   "cell_type": "markdown",
   "metadata": {},
   "source": [
    "# Cleaning"
   ]
  },
  {
   "cell_type": "code",
   "execution_count": 30,
   "metadata": {},
   "outputs": [],
   "source": [
    "twitter_archive_master = pd.read_csv('twitter_archive_master_v0', index_col=False)"
   ]
  },
  {
   "cell_type": "code",
   "execution_count": 31,
   "metadata": {},
   "outputs": [
    {
     "name": "stdout",
     "output_type": "stream",
     "text": [
      "<class 'pandas.core.frame.DataFrame'>\n",
      "RangeIndex: 2354 entries, 0 to 2353\n",
      "Data columns (total 22 columns):\n",
      "created_at                    2354 non-null object\n",
      "id_str                        2354 non-null int64\n",
      "retweet_count                 2354 non-null int64\n",
      "favorite_count                2354 non-null int64\n",
      "tweet_id                      2354 non-null int64\n",
      "in_reply_to_status_id         78 non-null float64\n",
      "in_reply_to_user_id           78 non-null float64\n",
      "source                        2354 non-null object\n",
      "text                          2354 non-null object\n",
      "retweeted_status_id           221 non-null object\n",
      "retweeted_status_user_id      182 non-null object\n",
      "retweeted_status_timestamp    179 non-null object\n",
      "expanded_urls                 2255 non-null object\n",
      "rating_numerator              2349 non-null object\n",
      "rating_denominator            2354 non-null object\n",
      "name                          2354 non-null object\n",
      "doggo                         2354 non-null object\n",
      "floofer                       2354 non-null object\n",
      "pupper                        2354 non-null object\n",
      "puppo                         2354 non-null object\n",
      "Unnamed: 17                   44 non-null object\n",
      "Unnamed: 18                   3 non-null object\n",
      "dtypes: float64(2), int64(4), object(16)\n",
      "memory usage: 404.7+ KB\n"
     ]
    }
   ],
   "source": [
    "twitter_archive_master.info()"
   ]
  },
  {
   "cell_type": "code",
   "execution_count": 32,
   "metadata": {},
   "outputs": [],
   "source": [
    "image_predictions_df = pd.read_csv('image-predictions.tsv', delimiter='\\t')"
   ]
  },
  {
   "cell_type": "code",
   "execution_count": 33,
   "metadata": {},
   "outputs": [
    {
     "name": "stdout",
     "output_type": "stream",
     "text": [
      "<class 'pandas.core.frame.DataFrame'>\n",
      "RangeIndex: 2075 entries, 0 to 2074\n",
      "Data columns (total 12 columns):\n",
      "tweet_id    2075 non-null int64\n",
      "jpg_url     2075 non-null object\n",
      "img_num     2075 non-null int64\n",
      "p1          2075 non-null object\n",
      "p1_conf     2075 non-null float64\n",
      "p1_dog      2075 non-null bool\n",
      "p2          2075 non-null object\n",
      "p2_conf     2075 non-null float64\n",
      "p2_dog      2075 non-null bool\n",
      "p3          2075 non-null object\n",
      "p3_conf     2075 non-null float64\n",
      "p3_dog      2075 non-null bool\n",
      "dtypes: bool(3), float64(3), int64(2), object(4)\n",
      "memory usage: 152.1+ KB\n"
     ]
    }
   ],
   "source": [
    "image_predictions_df.info()"
   ]
  },
  {
   "cell_type": "markdown",
   "metadata": {},
   "source": [
    "## Fixing tidiness issues"
   ]
  },
  {
   "cell_type": "markdown",
   "metadata": {},
   "source": [
    "### Fixing tidiness issue #1"
   ]
  },
  {
   "cell_type": "code",
   "execution_count": 34,
   "metadata": {},
   "outputs": [],
   "source": [
    "twitter_archive_master['id_str'] = twitter_archive_master['id_str'].astype(str)"
   ]
  },
  {
   "cell_type": "code",
   "execution_count": 35,
   "metadata": {},
   "outputs": [],
   "source": [
    "image_predictions_df['tweet_id'] = image_predictions_df['tweet_id'].astype(str)"
   ]
  },
  {
   "cell_type": "code",
   "execution_count": 36,
   "metadata": {},
   "outputs": [],
   "source": [
    "twitter_archive_master = image_predictions_df.set_index('tweet_id').join(twitter_archive_master.set_index('id_str'))"
   ]
  },
  {
   "cell_type": "markdown",
   "metadata": {},
   "source": [
    "### Test"
   ]
  },
  {
   "cell_type": "code",
   "execution_count": 37,
   "metadata": {
    "scrolled": true
   },
   "outputs": [
    {
     "name": "stdout",
     "output_type": "stream",
     "text": [
      "<class 'pandas.core.frame.DataFrame'>\n",
      "Index: 2075 entries, 666020888022790149 to 892420643555336193\n",
      "Data columns (total 32 columns):\n",
      "jpg_url                       2075 non-null object\n",
      "img_num                       2075 non-null int64\n",
      "p1                            2075 non-null object\n",
      "p1_conf                       2075 non-null float64\n",
      "p1_dog                        2075 non-null bool\n",
      "p2                            2075 non-null object\n",
      "p2_conf                       2075 non-null float64\n",
      "p2_dog                        2075 non-null bool\n",
      "p3                            2075 non-null object\n",
      "p3_conf                       2075 non-null float64\n",
      "p3_dog                        2075 non-null bool\n",
      "created_at                    2073 non-null object\n",
      "retweet_count                 2073 non-null float64\n",
      "favorite_count                2073 non-null float64\n",
      "tweet_id                      2073 non-null float64\n",
      "in_reply_to_status_id         23 non-null float64\n",
      "in_reply_to_user_id           23 non-null float64\n",
      "source                        2073 non-null object\n",
      "text                          2073 non-null object\n",
      "retweeted_status_id           119 non-null object\n",
      "retweeted_status_user_id      82 non-null object\n",
      "retweeted_status_timestamp    79 non-null object\n",
      "expanded_urls                 2033 non-null object\n",
      "rating_numerator              2070 non-null object\n",
      "rating_denominator            2073 non-null object\n",
      "name                          2073 non-null object\n",
      "doggo                         2073 non-null object\n",
      "floofer                       2073 non-null object\n",
      "pupper                        2073 non-null object\n",
      "puppo                         2073 non-null object\n",
      "Unnamed: 17                   40 non-null object\n",
      "Unnamed: 18                   3 non-null object\n",
      "dtypes: bool(3), float64(8), int64(1), object(20)\n",
      "memory usage: 572.4+ KB\n"
     ]
    }
   ],
   "source": [
    "twitter_archive_master.info()"
   ]
  },
  {
   "cell_type": "markdown",
   "metadata": {},
   "source": [
    "### Fixing tidiness issue #2"
   ]
  },
  {
   "cell_type": "code",
   "execution_count": 38,
   "metadata": {},
   "outputs": [],
   "source": [
    "# handle none\n",
    "twitter_archive_master.doggo.replace('None', '', inplace=True)\n",
    "twitter_archive_master.floofer.replace('None', '', inplace=True)\n",
    "twitter_archive_master.replace('None', '', inplace=True)\n",
    "twitter_archive_master.puppo.replace('None', '', inplace=True)\n",
    "\n",
    "# merge into column\n",
    "twitter_archive_master['dog_stage'] = twitter_archive_master.doggo + twitter_archive_master.floofer + twitter_archive_master.pupper + twitter_archive_master.puppo\n",
    "\n",
    "# handle multiple stages\n",
    "twitter_archive_master.loc[twitter_archive_master.dog_stage == 'doggopupper', 'dog_stage'] = 'doggo, pupper'\n",
    "twitter_archive_master.loc[twitter_archive_master.dog_stage == 'doggopuppo', 'dog_stage'] = 'doggo, puppo'\n",
    "twitter_archive_master.loc[twitter_archive_master.dog_stage == 'doggofloofer', 'dog_stage'] = 'doggo, floofer'"
   ]
  },
  {
   "cell_type": "code",
   "execution_count": 39,
   "metadata": {},
   "outputs": [],
   "source": [
    "# handle missing values\n",
    "twitter_archive_master.loc[twitter_archive_master.dog_stage == '', 'dog_stage'] = np.nan"
   ]
  },
  {
   "cell_type": "code",
   "execution_count": 40,
   "metadata": {},
   "outputs": [],
   "source": [
    "# Remove doggo, puppo, pupper and floofer columns\n",
    "twitter_archive_master.drop(['doggo', 'pupper', 'puppo', 'floofer'], axis=1, inplace=True)"
   ]
  },
  {
   "cell_type": "markdown",
   "metadata": {},
   "source": [
    "### Test"
   ]
  },
  {
   "cell_type": "code",
   "execution_count": 57,
   "metadata": {
    "scrolled": true
   },
   "outputs": [
    {
     "data": {
      "text/plain": [
       "pupper            207\n",
       "doggo              67\n",
       "puppo              23\n",
       "doggo, pupper      11\n",
       "floofer             7\n",
       "Sid                 1\n",
       "Ben                 1\n",
       "Jeb                 1\n",
       "Jennifur            1\n",
       "Jax                 1\n",
       "Bobb                1\n",
       "Tedrick             1\n",
       "Gin                 1\n",
       "Trooper             1\n",
       "10Oliviér           1\n",
       "Daisy               1\n",
       "Lolo                1\n",
       "Timofy              1\n",
       "Sadie               1\n",
       "Penny               1\n",
       "Chesney             1\n",
       "Buckleypupper       1\n",
       "doggo, floofer      1\n",
       "Beau                1\n",
       "Crimson             1\n",
       "Kallie              1\n",
       "Pipsy               1\n",
       "Jaycob              1\n",
       "10Fynn              1\n",
       "Holly               1\n",
       "10Rambo             1\n",
       "Godzillapupper      1\n",
       "Rufiopupper         1\n",
       "Spark               1\n",
       "Dook                1\n",
       "Bruiser             1\n",
       "the                 1\n",
       "doggo, puppo        1\n",
       "Name: dog_stage, dtype: int64"
      ]
     },
     "execution_count": 57,
     "metadata": {},
     "output_type": "execute_result"
    }
   ],
   "source": [
    "twitter_archive_master.dog_stage.value_counts()"
   ]
  },
  {
   "cell_type": "markdown",
   "metadata": {},
   "source": [
    "## Fixing quality issues"
   ]
  },
  {
   "cell_type": "markdown",
   "metadata": {},
   "source": [
    "### Fixing quality issue #1\n",
    "- Column id_tweet: wrong datatype <br>\n",
    "**Already fixed**"
   ]
  },
  {
   "cell_type": "markdown",
   "metadata": {},
   "source": [
    "### Fixing quality issue #2\n",
    "- Two unrelated columns: (Unamed: 17 and Unamed:18)."
   ]
  },
  {
   "cell_type": "code",
   "execution_count": 52,
   "metadata": {},
   "outputs": [],
   "source": [
    "twitter_archive_master.drop(['Unnamed: 17', 'Unnamed: 18'], axis=1, inplace=True)"
   ]
  },
  {
   "cell_type": "markdown",
   "metadata": {},
   "source": [
    "### Test"
   ]
  },
  {
   "cell_type": "code",
   "execution_count": 53,
   "metadata": {
    "scrolled": true
   },
   "outputs": [
    {
     "name": "stdout",
     "output_type": "stream",
     "text": [
      "<class 'pandas.core.frame.DataFrame'>\n",
      "Index: 2075 entries, 666020888022790149 to 892420643555336193\n",
      "Data columns (total 27 columns):\n",
      "jpg_url                       2075 non-null object\n",
      "img_num                       2075 non-null int64\n",
      "p1                            2075 non-null object\n",
      "p1_conf                       2075 non-null float64\n",
      "p1_dog                        2075 non-null bool\n",
      "p2                            2075 non-null object\n",
      "p2_conf                       2075 non-null float64\n",
      "p2_dog                        2075 non-null bool\n",
      "p3                            2075 non-null object\n",
      "p3_conf                       2075 non-null float64\n",
      "p3_dog                        2075 non-null bool\n",
      "created_at                    2073 non-null object\n",
      "retweet_count                 2073 non-null float64\n",
      "favorite_count                2073 non-null float64\n",
      "tweet_id                      2075 non-null object\n",
      "in_reply_to_status_id         23 non-null float64\n",
      "in_reply_to_user_id           23 non-null float64\n",
      "source                        2073 non-null object\n",
      "text                          2073 non-null object\n",
      "retweeted_status_id           119 non-null object\n",
      "retweeted_status_user_id      82 non-null object\n",
      "retweeted_status_timestamp    79 non-null object\n",
      "expanded_urls                 2033 non-null object\n",
      "rating_numerator              2070 non-null object\n",
      "rating_denominator            2073 non-null object\n",
      "name                          2073 non-null object\n",
      "dog_stage                     348 non-null object\n",
      "dtypes: bool(3), float64(7), int64(1), object(16)\n",
      "memory usage: 491.4+ KB\n"
     ]
    }
   ],
   "source": [
    "twitter_archive_master.info()"
   ]
  },
  {
   "cell_type": "markdown",
   "metadata": {},
   "source": [
    "### Fixing quality issue #3\n",
    "- Unrelative columns that start with \"retweet_\" since the dataset doesn't include retweets."
   ]
  },
  {
   "cell_type": "code",
   "execution_count": 54,
   "metadata": {
    "scrolled": true
   },
   "outputs": [],
   "source": [
    "twitter_archive_master.drop(['retweeted_status_id', 'retweeted_status_user_id', 'retweeted_status_timestamp'], axis=1, inplace=True)"
   ]
  },
  {
   "cell_type": "markdown",
   "metadata": {},
   "source": [
    "### Test"
   ]
  },
  {
   "cell_type": "code",
   "execution_count": 55,
   "metadata": {
    "scrolled": true
   },
   "outputs": [
    {
     "name": "stdout",
     "output_type": "stream",
     "text": [
      "<class 'pandas.core.frame.DataFrame'>\n",
      "Index: 2075 entries, 666020888022790149 to 892420643555336193\n",
      "Data columns (total 24 columns):\n",
      "jpg_url                  2075 non-null object\n",
      "img_num                  2075 non-null int64\n",
      "p1                       2075 non-null object\n",
      "p1_conf                  2075 non-null float64\n",
      "p1_dog                   2075 non-null bool\n",
      "p2                       2075 non-null object\n",
      "p2_conf                  2075 non-null float64\n",
      "p2_dog                   2075 non-null bool\n",
      "p3                       2075 non-null object\n",
      "p3_conf                  2075 non-null float64\n",
      "p3_dog                   2075 non-null bool\n",
      "created_at               2073 non-null object\n",
      "retweet_count            2073 non-null float64\n",
      "favorite_count           2073 non-null float64\n",
      "tweet_id                 2075 non-null object\n",
      "in_reply_to_status_id    23 non-null float64\n",
      "in_reply_to_user_id      23 non-null float64\n",
      "source                   2073 non-null object\n",
      "text                     2073 non-null object\n",
      "expanded_urls            2033 non-null object\n",
      "rating_numerator         2070 non-null object\n",
      "rating_denominator       2073 non-null object\n",
      "name                     2073 non-null object\n",
      "dog_stage                348 non-null object\n",
      "dtypes: bool(3), float64(7), int64(1), object(13)\n",
      "memory usage: 442.7+ KB\n"
     ]
    }
   ],
   "source": [
    "twitter_archive_master.info()"
   ]
  },
  {
   "cell_type": "markdown",
   "metadata": {},
   "source": [
    "Saving dataframe to a csv file"
   ]
  },
  {
   "cell_type": "code",
   "execution_count": 58,
   "metadata": {},
   "outputs": [],
   "source": [
    "twitter_archive_master.to_csv('twitter_archive_master_v2.csv', index=False)"
   ]
  },
  {
   "cell_type": "markdown",
   "metadata": {},
   "source": [
    "Loading dataframe from a csv file"
   ]
  },
  {
   "cell_type": "code",
   "execution_count": 23,
   "metadata": {},
   "outputs": [],
   "source": [
    "twitter_archive_master = pd.read_csv('twitter_archive_master_v2.csv')"
   ]
  },
  {
   "cell_type": "code",
   "execution_count": 24,
   "metadata": {},
   "outputs": [
    {
     "name": "stdout",
     "output_type": "stream",
     "text": [
      "<class 'pandas.core.frame.DataFrame'>\n",
      "RangeIndex: 2075 entries, 0 to 2074\n",
      "Data columns (total 24 columns):\n",
      "jpg_url                  2075 non-null object\n",
      "img_num                  2075 non-null int64\n",
      "p1                       2075 non-null object\n",
      "p1_conf                  2075 non-null float64\n",
      "p1_dog                   2075 non-null bool\n",
      "p2                       2075 non-null object\n",
      "p2_conf                  2075 non-null float64\n",
      "p2_dog                   2075 non-null bool\n",
      "p3                       2075 non-null object\n",
      "p3_conf                  2075 non-null float64\n",
      "p3_dog                   2075 non-null bool\n",
      "created_at               2073 non-null object\n",
      "retweet_count            2073 non-null float64\n",
      "favorite_count           2073 non-null float64\n",
      "tweet_id                 2073 non-null float64\n",
      "in_reply_to_status_id    23 non-null float64\n",
      "in_reply_to_user_id      23 non-null float64\n",
      "source                   2073 non-null object\n",
      "text                     2073 non-null object\n",
      "expanded_urls            2033 non-null object\n",
      "rating_numerator         2070 non-null object\n",
      "rating_denominator       2073 non-null object\n",
      "name                     1505 non-null object\n",
      "dog_stage                348 non-null object\n",
      "dtypes: bool(3), float64(8), int64(1), object(12)\n",
      "memory usage: 346.6+ KB\n"
     ]
    }
   ],
   "source": [
    "twitter_archive_master.info()"
   ]
  },
  {
   "cell_type": "markdown",
   "metadata": {},
   "source": [
    "### Fixing quality issue #4\n",
    "- uninformative column: rating_denominator"
   ]
  },
  {
   "cell_type": "code",
   "execution_count": 25,
   "metadata": {},
   "outputs": [],
   "source": [
    "twitter_archive_master.drop(['rating_denominator'], axis=1, inplace=True)"
   ]
  },
  {
   "cell_type": "markdown",
   "metadata": {},
   "source": [
    "### Test"
   ]
  },
  {
   "cell_type": "code",
   "execution_count": 26,
   "metadata": {},
   "outputs": [
    {
     "name": "stdout",
     "output_type": "stream",
     "text": [
      "<class 'pandas.core.frame.DataFrame'>\n",
      "RangeIndex: 2075 entries, 0 to 2074\n",
      "Data columns (total 23 columns):\n",
      "jpg_url                  2075 non-null object\n",
      "img_num                  2075 non-null int64\n",
      "p1                       2075 non-null object\n",
      "p1_conf                  2075 non-null float64\n",
      "p1_dog                   2075 non-null bool\n",
      "p2                       2075 non-null object\n",
      "p2_conf                  2075 non-null float64\n",
      "p2_dog                   2075 non-null bool\n",
      "p3                       2075 non-null object\n",
      "p3_conf                  2075 non-null float64\n",
      "p3_dog                   2075 non-null bool\n",
      "created_at               2073 non-null object\n",
      "retweet_count            2073 non-null float64\n",
      "favorite_count           2073 non-null float64\n",
      "tweet_id                 2073 non-null float64\n",
      "in_reply_to_status_id    23 non-null float64\n",
      "in_reply_to_user_id      23 non-null float64\n",
      "source                   2073 non-null object\n",
      "text                     2073 non-null object\n",
      "expanded_urls            2033 non-null object\n",
      "rating_numerator         2070 non-null object\n",
      "name                     1505 non-null object\n",
      "dog_stage                348 non-null object\n",
      "dtypes: bool(3), float64(8), int64(1), object(11)\n",
      "memory usage: 330.4+ KB\n"
     ]
    }
   ],
   "source": [
    "twitter_archive_master.info()"
   ]
  },
  {
   "cell_type": "markdown",
   "metadata": {},
   "source": [
    "### Fixing quality issue #5\n",
    "- wrong entries in dog_stage column: **I'll just make them NaN for now**"
   ]
  },
  {
   "cell_type": "code",
   "execution_count": 27,
   "metadata": {},
   "outputs": [],
   "source": [
    "mask = (twitter_archive_master['dog_stage'] == 'doggo') | (twitter_archive_master['dog_stage'] == 'pupper') | (twitter_archive_master['dog_stage'] == 'puppo') | (twitter_archive_master['dog_stage'] == 'floofer')\n",
    "wrong_value_index = twitter_archive_master[~mask].index\n",
    "twitter_archive_master.loc[wrong_value_index, 'dog_stage'] = np.nan"
   ]
  },
  {
   "cell_type": "markdown",
   "metadata": {},
   "source": [
    "### Test"
   ]
  },
  {
   "cell_type": "code",
   "execution_count": 28,
   "metadata": {},
   "outputs": [
    {
     "data": {
      "text/plain": [
       "pupper     207\n",
       "doggo       67\n",
       "puppo       23\n",
       "floofer      7\n",
       "Name: dog_stage, dtype: int64"
      ]
     },
     "execution_count": 28,
     "metadata": {},
     "output_type": "execute_result"
    }
   ],
   "source": [
    "twitter_archive_master.dog_stage.value_counts()"
   ]
  },
  {
   "cell_type": "markdown",
   "metadata": {},
   "source": [
    "### Fixing quality issue #6\n",
    "- in_reply_to_status_id and in_reply_to_user_id columns that are full of missing data"
   ]
  },
  {
   "cell_type": "code",
   "execution_count": 29,
   "metadata": {},
   "outputs": [],
   "source": [
    "twitter_archive_master.drop(['in_reply_to_status_id', 'in_reply_to_user_id'], axis=1, inplace=True)"
   ]
  },
  {
   "cell_type": "markdown",
   "metadata": {},
   "source": [
    "### Test"
   ]
  },
  {
   "cell_type": "code",
   "execution_count": 30,
   "metadata": {},
   "outputs": [
    {
     "name": "stdout",
     "output_type": "stream",
     "text": [
      "<class 'pandas.core.frame.DataFrame'>\n",
      "RangeIndex: 2075 entries, 0 to 2074\n",
      "Data columns (total 21 columns):\n",
      "jpg_url             2075 non-null object\n",
      "img_num             2075 non-null int64\n",
      "p1                  2075 non-null object\n",
      "p1_conf             2075 non-null float64\n",
      "p1_dog              2075 non-null bool\n",
      "p2                  2075 non-null object\n",
      "p2_conf             2075 non-null float64\n",
      "p2_dog              2075 non-null bool\n",
      "p3                  2075 non-null object\n",
      "p3_conf             2075 non-null float64\n",
      "p3_dog              2075 non-null bool\n",
      "created_at          2073 non-null object\n",
      "retweet_count       2073 non-null float64\n",
      "favorite_count      2073 non-null float64\n",
      "tweet_id            2073 non-null float64\n",
      "source              2073 non-null object\n",
      "text                2073 non-null object\n",
      "expanded_urls       2033 non-null object\n",
      "rating_numerator    2070 non-null object\n",
      "name                1505 non-null object\n",
      "dog_stage           304 non-null object\n",
      "dtypes: bool(3), float64(6), int64(1), object(11)\n",
      "memory usage: 298.0+ KB\n"
     ]
    }
   ],
   "source": [
    "twitter_archive_master.info()"
   ]
  },
  {
   "cell_type": "markdown",
   "metadata": {},
   "source": [
    "### Fixing quality issue #7\n",
    "\n",
    "replace tweet_id column values (wrong enteries) in twitter_archive_master_df with values from id column in tweet_df"
   ]
  },
  {
   "cell_type": "code",
   "execution_count": 31,
   "metadata": {},
   "outputs": [],
   "source": [
    "twitter_archive_master['tweet_id'] = tweet_df['id'].astype(str)"
   ]
  },
  {
   "cell_type": "markdown",
   "metadata": {},
   "source": [
    "Saving"
   ]
  },
  {
   "cell_type": "code",
   "execution_count": 32,
   "metadata": {},
   "outputs": [],
   "source": [
    "twitter_archive_master.to_csv('twitter_archive_master_v3')"
   ]
  },
  {
   "cell_type": "markdown",
   "metadata": {},
   "source": [
    "### Fixing quality issue #8\n",
    "- some rating values that are not correctly extracted \n",
    "- wrong type in numerator_rating column. it should be float type not str"
   ]
  },
  {
   "cell_type": "markdown",
   "metadata": {},
   "source": [
    "Extracting rating_numerator true values from text column"
   ]
  },
  {
   "cell_type": "code",
   "execution_count": 36,
   "metadata": {},
   "outputs": [],
   "source": [
    "rating = twitter_archive_master.text.str.extract('((?:\\d+\\.)?\\d+)\\/(\\d+)', expand=True)"
   ]
  },
  {
   "cell_type": "code",
   "execution_count": 54,
   "metadata": {},
   "outputs": [],
   "source": [
    "twitter_archive_master['rating_numerator'] = rating[0].astype(np.float64)"
   ]
  },
  {
   "cell_type": "code",
   "execution_count": 55,
   "metadata": {},
   "outputs": [
    {
     "data": {
      "text/plain": [
       "12.00      472\n",
       "10.00      418\n",
       "11.00      403\n",
       "13.00      282\n",
       "9.00       142\n",
       "8.00        94\n",
       "7.00        52\n",
       "14.00       40\n",
       "5.00        33\n",
       "6.00        32\n",
       "3.00        19\n",
       "4.00        16\n",
       "2.00         8\n",
       "1.00         5\n",
       "0.00         2\n",
       "44.00        1\n",
       "88.00        1\n",
       "144.00       1\n",
       "143.00       1\n",
       "99.00        1\n",
       "420.00       1\n",
       "165.00       1\n",
       "9.75         1\n",
       "204.00       1\n",
       "121.00       1\n",
       "45.00        1\n",
       "1776.00      1\n",
       "11.27        1\n",
       "80.00        1\n",
       "11.26        1\n",
       "13.50        1\n",
       "15.00        1\n",
       "84.00        1\n",
       "24.00        1\n",
       "50.00        1\n",
       "60.00        1\n",
       "Name: rating_numerator, dtype: int64"
      ]
     },
     "execution_count": 55,
     "metadata": {},
     "output_type": "execute_result"
    }
   ],
   "source": [
    "twitter_archive_master.rating_numerator.value_counts()"
   ]
  },
  {
   "cell_type": "code",
   "execution_count": 56,
   "metadata": {
    "scrolled": true
   },
   "outputs": [
    {
     "data": {
      "text/plain": [
       "(2075,)"
      ]
     },
     "execution_count": 56,
     "metadata": {},
     "output_type": "execute_result"
    }
   ],
   "source": [
    "twitter_archive_master['rating_numerator'].shape"
   ]
  },
  {
   "cell_type": "markdown",
   "metadata": {},
   "source": [
    "**I found that most all of the ratings from 0 to 15. Others are nonsense values**"
   ]
  },
  {
   "cell_type": "markdown",
   "metadata": {},
   "source": [
    "#### I'll drop rows with ratings outside (0, 15) range"
   ]
  },
  {
   "cell_type": "code",
   "execution_count": 57,
   "metadata": {},
   "outputs": [],
   "source": [
    "mask = (twitter_archive_master['rating_numerator'] >= 0) & (twitter_archive_master['rating_numerator'] <= 15)\n",
    "twitter_archive_master = twitter_archive_master[mask]"
   ]
  },
  {
   "cell_type": "code",
   "execution_count": 58,
   "metadata": {},
   "outputs": [
    {
     "data": {
      "text/plain": [
       "2023"
      ]
     },
     "execution_count": 58,
     "metadata": {},
     "output_type": "execute_result"
    }
   ],
   "source": [
    "twitter_archive_master.shape[0]"
   ]
  },
  {
   "cell_type": "markdown",
   "metadata": {},
   "source": [
    "Saving dataframe to a csv file"
   ]
  },
  {
   "cell_type": "code",
   "execution_count": 59,
   "metadata": {},
   "outputs": [],
   "source": [
    "twitter_archive_master.to_csv('twitter_archive_master.csv', index=False)"
   ]
  },
  {
   "cell_type": "markdown",
   "metadata": {},
   "source": [
    "# Analysis"
   ]
  },
  {
   "cell_type": "markdown",
   "metadata": {},
   "source": [
    "## Questions:"
   ]
  },
  {
   "cell_type": "markdown",
   "metadata": {},
   "source": [
    "1. What are the most 10 liked tweets?\n",
    "2. What are the most 10 retweeted tweets?\n",
    "3. **Insight:** Is there a correlation between btw rating and favorite counts?\n",
    "4. **Insight:** Is there a correlation between btw rating and retweet counts?\n",
    "5. Which algorithm (p1, p2 or p3) is more accurate at predictions\n",
    "6. **Insight:** Do people like tweets of certian dog breeds more than other breed?"
   ]
  },
  {
   "cell_type": "markdown",
   "metadata": {},
   "source": [
    "Loading dataframe from a csv file"
   ]
  },
  {
   "cell_type": "code",
   "execution_count": 60,
   "metadata": {},
   "outputs": [],
   "source": [
    "twitter_archive_master = pd.read_csv('twitter_archive_master.csv')"
   ]
  },
  {
   "cell_type": "markdown",
   "metadata": {},
   "source": [
    "### Answer question#1"
   ]
  },
  {
   "cell_type": "code",
   "execution_count": 61,
   "metadata": {},
   "outputs": [],
   "source": [
    "top_10_liked = twitter_archive_master.sort_values(by='favorite_count', ascending=False)[:10]\n",
    "top_10_liked.reset_index(drop=True, inplace=True)"
   ]
  },
  {
   "cell_type": "code",
   "execution_count": 64,
   "metadata": {},
   "outputs": [
    {
     "name": "stdout",
     "output_type": "stream",
     "text": [
      "Here's a super supportive puppo participating in the Toronto  #WomensMarch today. 13/10 https://t.co/nTz3FtorBc\n",
      "Here's a doggo realizing you can stand in a pool. 13/10 enlightened af (vid by Tina Conrad) https://t.co/7wE9LTEXC4\n",
      "This is Duddles. He did an attempt. 13/10 someone help him (vid by Georgia Felici) https://t.co/UDT7ZkcTgY\n",
      "This is Stephan. He just wants to help. 13/10 such a good boy https://t.co/DkBYaCAg2d\n",
      "This is Jamesy. He gives a kiss to every other pupper he sees on his walk. 13/10 such passion, much tender https://t.co/wk7TfysWHr\n",
      "This is Bo. He was a very good First Doggo. 14/10 would be an absolute honor to pet https://t.co/AdPKrI8BZ1\n",
      "This is Zoey. She really likes the planet. Would hate to see willful ignorance and the denial of fairly elemental science destroy it. 13/10 https://t.co/T1xlgaPujm\n",
      "\"Good afternoon class today we're going to learn what makes a good boy so good\" 13/10 https://t.co/f1h2Fsalv9\n",
      "We only rate dogs. This is quite clearly a smol broken polar bear. We'd appreciate if you only send dogs. Thank you... 12/10 https://t.co/g2nSyGenG9\n",
      "Here's a doggo blowing bubbles. It's downright legendary. 13/10 would watch on repeat forever (vid by Kent Duryee) https://t.co/YcXgHfp1EC\n"
     ]
    }
   ],
   "source": [
    "from PIL import Image\n",
    "from io import BytesIO\n",
    "\n",
    "for i in range(len(top_10_liked)):\n",
    "    dog = top_10_liked.iloc[i,]\n",
    "    print(dog.text)\n",
    "    tw_id = dog.tweet_id\n",
    "    if tw_id in twitter_archive_master['tweet_id'].values:\n",
    "        url = twitter_archive_master[twitter_archive_master['tweet_id'] == tw_id]['jpg_url'].values[0]\n",
    "        r = requests.get(url)\n",
    "        img = Image.open(BytesIO(r.content))\n",
    "        img.show"
   ]
  },
  {
   "cell_type": "markdown",
   "metadata": {},
   "source": [
    "### I don't know why images don't show"
   ]
  },
  {
   "cell_type": "markdown",
   "metadata": {},
   "source": [
    "### Answer question#2"
   ]
  },
  {
   "cell_type": "code",
   "execution_count": 65,
   "metadata": {},
   "outputs": [],
   "source": [
    "top_10_tweeted = twitter_archive_master.sort_values(by='retweet_count', ascending=False)[:10]\n",
    "top_10_tweeted.reset_index(drop=True, inplace=True)"
   ]
  },
  {
   "cell_type": "code",
   "execution_count": 66,
   "metadata": {},
   "outputs": [
    {
     "name": "stdout",
     "output_type": "stream",
     "text": [
      "Here's a doggo realizing you can stand in a pool. 13/10 enlightened af (vid by Tina Conrad) https://t.co/7wE9LTEXC4\n",
      "This is Stephan. He just wants to help. 13/10 such a good boy https://t.co/DkBYaCAg2d\n",
      "RT @dog_rates: This is Stephan. He just wants to help. 13/10 such a good boy https://t.co/DkBYaCAg2d\n",
      "Here's a doggo blowing bubbles. It's downright legendary. 13/10 would watch on repeat forever (vid by Kent Duryee) https://t.co/YcXgHfp1EC\n",
      "Here's a super supportive puppo participating in the Toronto  #WomensMarch today. 13/10 https://t.co/nTz3FtorBc\n",
      "This is Duddles. He did an attempt. 13/10 someone help him (vid by Georgia Felici) https://t.co/UDT7ZkcTgY\n",
      "This is Bo. He was a very good First Doggo. 14/10 would be an absolute honor to pet https://t.co/AdPKrI8BZ1\n",
      "RT @dog_rates: This is Bo. He was a very good First Doggo. 14/10 would be an absolute honor to pet https://t.co/AdPKrI8BZ1\n",
      "RT @dog_rates: \"Good afternoon class today we're going to learn what makes a good boy so good\" 13/10 https://t.co/f1h2Fsalv9\n",
      "\"Good afternoon class today we're going to learn what makes a good boy so good\" 13/10 https://t.co/f1h2Fsalv9\n"
     ]
    }
   ],
   "source": [
    "for i in range(len(top_10_tweeted)):\n",
    "    dog = top_10_tweeted.iloc[i,]\n",
    "    print(dog.text)"
   ]
  },
  {
   "cell_type": "markdown",
   "metadata": {},
   "source": [
    "### Answer question#3"
   ]
  },
  {
   "cell_type": "code",
   "execution_count": 67,
   "metadata": {},
   "outputs": [
    {
     "data": {
      "image/png": "[encoded data removed]",
      "text/plain": [
       "<matplotlib.figure.Figure at 0x7fced3a88588>"
      ]
     },
     "metadata": {
      "needs_background": "light"
     },
     "output_type": "display_data"
    }
   ],
   "source": [
    "twitter_archive_master.plot.scatter('rating_numerator', 'favorite_count',figsize=(10,5));"
   ]
  },
  {
   "cell_type": "markdown",
   "metadata": {},
   "source": [
    "**Yes. There is a positive correlation**"
   ]
  },
  {
   "cell_type": "markdown",
   "metadata": {},
   "source": [
    "### Answer question#4"
   ]
  },
  {
   "cell_type": "code",
   "execution_count": 68,
   "metadata": {},
   "outputs": [
    {
     "data": {
      "image/png": "[encoded data removed]",
      "text/plain": [
       "<matplotlib.figure.Figure at 0x7fced1595278>"
      ]
     },
     "metadata": {
      "needs_background": "light"
     },
     "output_type": "display_data"
    }
   ],
   "source": [
    "twitter_archive_master.plot.scatter('rating_numerator', 'retweet_count',figsize=(10,5));"
   ]
  },
  {
   "cell_type": "markdown",
   "metadata": {},
   "source": [
    "**Yes. There is a positive correlation**"
   ]
  },
  {
   "cell_type": "markdown",
   "metadata": {},
   "source": [
    "### Answer question#5"
   ]
  },
  {
   "cell_type": "code",
   "execution_count": 86,
   "metadata": {},
   "outputs": [],
   "source": [
    "twitter_archive_master = pd.read_csv('twitter_archive_master.csv', index_col=False)"
   ]
  },
  {
   "cell_type": "code",
   "execution_count": 69,
   "metadata": {},
   "outputs": [
    {
     "name": "stdout",
     "output_type": "stream",
     "text": [
      "<class 'pandas.core.frame.DataFrame'>\n",
      "RangeIndex: 2023 entries, 0 to 2022\n",
      "Data columns (total 21 columns):\n",
      "jpg_url             2023 non-null object\n",
      "img_num             2023 non-null int64\n",
      "p1                  2023 non-null object\n",
      "p1_conf             2023 non-null float64\n",
      "p1_dog              2023 non-null bool\n",
      "p2                  2023 non-null object\n",
      "p2_conf             2023 non-null float64\n",
      "p2_dog              2023 non-null bool\n",
      "p3                  2023 non-null object\n",
      "p3_conf             2023 non-null float64\n",
      "p3_dog              2023 non-null bool\n",
      "created_at          2023 non-null object\n",
      "retweet_count       2023 non-null float64\n",
      "favorite_count      2023 non-null float64\n",
      "tweet_id            2023 non-null int64\n",
      "source              2023 non-null object\n",
      "text                2023 non-null object\n",
      "expanded_urls       2017 non-null object\n",
      "rating_numerator    2023 non-null float64\n",
      "name                1466 non-null object\n",
      "dog_stage           303 non-null object\n",
      "dtypes: bool(3), float64(6), int64(2), object(10)\n",
      "memory usage: 290.5+ KB\n"
     ]
    }
   ],
   "source": [
    "twitter_archive_master.info()"
   ]
  },
  {
   "cell_type": "code",
   "execution_count": 70,
   "metadata": {},
   "outputs": [
    {
     "data": {
      "text/plain": [
       "776"
      ]
     },
     "execution_count": 70,
     "metadata": {},
     "output_type": "execute_result"
    }
   ],
   "source": [
    "twitter_archive_master.query('p1_conf > 0.6  & p1_dog').count()['p1_conf']"
   ]
  },
  {
   "cell_type": "code",
   "execution_count": 71,
   "metadata": {},
   "outputs": [
    {
     "data": {
      "text/plain": [
       "0"
      ]
     },
     "execution_count": 71,
     "metadata": {},
     "output_type": "execute_result"
    }
   ],
   "source": [
    "twitter_archive_master.query('p2_conf > 0.6  & p2_dog').count()['p2_conf']"
   ]
  },
  {
   "cell_type": "code",
   "execution_count": 72,
   "metadata": {},
   "outputs": [
    {
     "data": {
      "text/plain": [
       "0"
      ]
     },
     "execution_count": 72,
     "metadata": {},
     "output_type": "execute_result"
    }
   ],
   "source": [
    "twitter_archive_master.query('p3_conf > 0.6  & p3_dog').count()['p3_conf']"
   ]
  },
  {
   "cell_type": "code",
   "execution_count": 74,
   "metadata": {},
   "outputs": [
    {
     "data": {
      "image/png": "[encoded data removed]",
      "text/plain": [
       "<matplotlib.figure.Figure at 0x7fced0b748d0>"
      ]
     },
     "metadata": {
      "needs_background": "light"
     },
     "output_type": "display_data"
    }
   ],
   "source": [
    "plt.figure(figsize=(10,7))\n",
    "plt.hist(twitter_archive_master['p1_conf'], alpha = 0.5, color='blue');\n",
    "plt.hist(twitter_archive_master['p2_conf'], alpha = 0.5, color = 'green');\n",
    "plt.hist(twitter_archive_master['p3_conf'], alpha = 0.5, color ='red');\n",
    "\n",
    "labels= ['p1_confedence', 'p2_confedence', 'p3_confedence']\n",
    "plt.legend(labels = labels);\n",
    "\n",
    "plt.xlabel(\"Algorithm confedence\", fontsize=16);  \n",
    "plt.ylabel(\"Number of Predections\", fontsize=16);\n",
    "plt.xticks(fontsize=14);  \n",
    "plt.yticks(fontsize=14);\n",
    "plt.title('Comparing Accuracy of p1, p2 and p3 algorithms', fontsize=16);"
   ]
  },
  {
   "cell_type": "markdown",
   "metadata": {},
   "source": [
    "**The most accurate algorithm is p1**<br><br>\n",
    "I'll use it to answer the following question"
   ]
  },
  {
   "cell_type": "markdown",
   "metadata": {},
   "source": [
    "### Answer question#6"
   ]
  },
  {
   "cell_type": "markdown",
   "metadata": {},
   "source": [
    "- considering predictions with 0.6 confedence and above only for p1 algorithm predictions"
   ]
  },
  {
   "cell_type": "code",
   "execution_count": 75,
   "metadata": {},
   "outputs": [],
   "source": [
    "mask = (twitter_archive_master['p1_conf'] >= 0.6) & (twitter_archive_master['p1_dog'] == True)\n",
    "analysis_df = twitter_archive_master[mask]"
   ]
  },
  {
   "cell_type": "code",
   "execution_count": 87,
   "metadata": {},
   "outputs": [
    {
     "data": {
      "text/plain": [
       "p1\n",
       "Afghan_hound                        1\n",
       "Airedale                            5\n",
       "American_Staffordshire_terrier      6\n",
       "Appenzeller                         1\n",
       "Bernese_mountain_dog                8\n",
       "Blenheim_spaniel                    5\n",
       "Border_collie                       5\n",
       "Border_terrier                      2\n",
       "Boston_bull                         5\n",
       "Brittany_spaniel                    7\n",
       "Cardigan                            9\n",
       "Chesapeake_Bay_retriever            9\n",
       "Chihuahua                          42\n",
       "Dandie_Dinmont                      2\n",
       "Doberman                            7\n",
       "English_setter                      4\n",
       "English_springer                    2\n",
       "Eskimo_dog                          3\n",
       "French_bulldog                     21\n",
       "German_shepherd                    14\n",
       "German_short-haired_pointer         5\n",
       "Gordon_setter                       1\n",
       "Great_Dane                          3\n",
       "Great_Pyrenees                      8\n",
       "Greater_Swiss_Mountain_dog          1\n",
       "Ibizan_hound                        1\n",
       "Irish_terrier                       2\n",
       "Italian_greyhound                   5\n",
       "Japanese_spaniel                    1\n",
       "Labrador_retriever                 57\n",
       "                                 ... \n",
       "briard                              1\n",
       "bull_mastiff                        5\n",
       "chow                               21\n",
       "clumber                             1\n",
       "cocker_spaniel                     12\n",
       "collie                              3\n",
       "curly-coated_retriever              1\n",
       "dalmatian                           5\n",
       "flat-coated_retriever               5\n",
       "giant_schnauzer                     1\n",
       "golden_retriever                  112\n",
       "keeshond                            2\n",
       "kelpie                              1\n",
       "komondor                            3\n",
       "kuvasz                              2\n",
       "malamute                           15\n",
       "malinois                            5\n",
       "miniature_pinscher                  8\n",
       "miniature_poodle                    2\n",
       "miniature_schnauzer                 1\n",
       "papillon                            2\n",
       "pug                                39\n",
       "redbone                             1\n",
       "schipperke                          5\n",
       "soft-coated_wheaten_terrier         2\n",
       "standard_poodle                     1\n",
       "toy_poodle                         19\n",
       "toy_terrier                         1\n",
       "vizsla                              9\n",
       "whippet                             4\n",
       "Name: tweet_id, Length: 94, dtype: int64"
      ]
     },
     "execution_count": 87,
     "metadata": {},
     "output_type": "execute_result"
    }
   ],
   "source": [
    "analysis_df.groupby('p1')['tweet_id'].count()"
   ]
  },
  {
   "cell_type": "markdown",
   "metadata": {},
   "source": [
    "### Average number of likes per dog in each breed"
   ]
  },
  {
   "cell_type": "code",
   "execution_count": 89,
   "metadata": {
    "scrolled": true
   },
   "outputs": [
    {
     "data": {
      "text/plain": [
       "p1\n",
       "Afghan_hound                      17305.000000\n",
       "Airedale                           4146.200000\n",
       "American_Staffordshire_terrier     9466.166667\n",
       "Appenzeller                        2594.000000\n",
       "Bernese_mountain_dog               4737.875000\n",
       "Blenheim_spaniel                   8420.200000\n",
       "Border_collie                     14868.800000\n",
       "Border_terrier                    14345.500000\n",
       "Boston_bull                        3282.400000\n",
       "Brittany_spaniel                   5898.571429\n",
       "Cardigan                          14998.000000\n",
       "Chesapeake_Bay_retriever          16111.444444\n",
       "Chihuahua                          6672.857143\n",
       "Dandie_Dinmont                     2680.000000\n",
       "Doberman                           7863.285714\n",
       "English_setter                     4889.000000\n",
       "English_springer                    739.000000\n",
       "Eskimo_dog                         7381.666667\n",
       "French_bulldog                    18945.000000\n",
       "German_shepherd                    8959.928571\n",
       "German_short-haired_pointer        4060.600000\n",
       "Gordon_setter                      3706.000000\n",
       "Great_Dane                         8309.333333\n",
       "Great_Pyrenees                    16177.125000\n",
       "Greater_Swiss_Mountain_dog        22453.000000\n",
       "Ibizan_hound                       2307.000000\n",
       "Irish_terrier                      1688.000000\n",
       "Italian_greyhound                  6502.200000\n",
       "Japanese_spaniel                   1362.000000\n",
       "Labrador_retriever                14382.666667\n",
       "                                      ...     \n",
       "briard                             7117.000000\n",
       "bull_mastiff                       6065.200000\n",
       "chow                              12524.619048\n",
       "clumber                            7320.000000\n",
       "cocker_spaniel                     9754.750000\n",
       "collie                             8711.000000\n",
       "curly-coated_retriever            11901.000000\n",
       "dalmatian                          6108.000000\n",
       "flat-coated_retriever             13214.600000\n",
       "giant_schnauzer                     235.000000\n",
       "golden_retriever                  12002.375000\n",
       "keeshond                           8153.000000\n",
       "kelpie                             9517.000000\n",
       "komondor                           9957.666667\n",
       "kuvasz                             1921.000000\n",
       "malamute                          10882.666667\n",
       "malinois                           3860.000000\n",
       "miniature_pinscher                 9697.500000\n",
       "miniature_poodle                   7979.000000\n",
       "miniature_schnauzer                 763.000000\n",
       "papillon                           4850.000000\n",
       "pug                                4851.384615\n",
       "redbone                            1175.000000\n",
       "schipperke                         6515.000000\n",
       "soft-coated_wheaten_terrier        2815.000000\n",
       "standard_poodle                    4957.000000\n",
       "toy_poodle                         6337.105263\n",
       "toy_terrier                        8865.000000\n",
       "vizsla                             7364.333333\n",
       "whippet                           12527.750000\n",
       "Length: 94, dtype: float64"
      ]
     },
     "execution_count": 89,
     "metadata": {},
     "output_type": "execute_result"
    }
   ],
   "source": [
    "no_likes_per_dogbreed = analysis_df.groupby('p1')['favorite_count'].sum() / analysis_df.groupby('p1')['tweet_id'].count()\n",
    "no_likes_per_dogbreed"
   ]
  },
  {
   "cell_type": "code",
   "execution_count": 118,
   "metadata": {},
   "outputs": [
    {
     "data": {
      "image/png": "[encoded data removed]",
      "text/plain": [
       "<matplotlib.figure.Figure at 0x7fcecab8e278>"
      ]
     },
     "metadata": {},
     "output_type": "display_data"
    }
   ],
   "source": [
    "plt.figure(figsize=(20,8));\n",
    "no_likes_per_dogbreed.sort_values().plot(kind='bar');\n",
    "plt.xlabel('Breeds', fontsize=16);\n",
    "plt.ylabel('Average number of likes per dog in each breed', fontsize=16);\n",
    "plt.title('Number of Likes per Dog Breed' , fontsize=16);"
   ]
  },
  {
   "cell_type": "markdown",
   "metadata": {},
   "source": [
    "**As shown in the above bar chart, there is a correlation btw like count (favorite_count) and dog breeds<br>Answer: Yes.**"
   ]
  }
 ],
 "metadata": {
  "kernelspec": {
   "display_name": "Python 3",
   "language": "python",
   "name": "python3"
  },
  "language_info": {
   "codemirror_mode": {
    "name": "ipython",
    "version": 3
   },
   "file_extension": ".py",
   "mimetype": "text/x-python",
   "name": "python",
   "nbconvert_exporter": "python",
   "pygments_lexer": "ipython3",
   "version": "3.7.7"
  }
 },
 "nbformat": 4,
 "nbformat_minor": 2
}
